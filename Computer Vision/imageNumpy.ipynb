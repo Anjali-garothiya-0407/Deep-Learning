{
 "cells": [
  {
   "cell_type": "code",
   "execution_count": 1,
   "id": "3b334e19",
   "metadata": {},
   "outputs": [
    {
     "name": "stdout",
     "output_type": "stream",
     "text": [
      "image shape: (700, 1024, 3)\n",
      "Pixel value (BGR) at (100,50): [252 232 215]\n"
     ]
    }
   ],
   "source": [
    "import cv2\n",
    "image = cv2.imread(\"C:\\\\Users\\\\sdevelop\\\\Desktop\\\\horse.jpg\")\n",
    "print(\"image shape:\",image.shape)\n",
    "pixel = image[100,50]\n",
    "print(\"Pixel value (BGR) at (100,50):\", pixel)"
   ]
  },
  {
   "cell_type": "code",
   "execution_count": 2,
   "id": "6df2afd1",
   "metadata": {},
   "outputs": [
    {
     "name": "stdout",
     "output_type": "stream",
     "text": [
      "Blue channel shape: (700, 1024)\n",
      "Green channel shape: (700, 1024)\n",
      "Red channel shape: (700, 1024)\n"
     ]
    }
   ],
   "source": [
    "b_channel, g_channel, r_channel = cv2.split(image)\n",
    "print(\"Blue channel shape:\", b_channel.shape)\n",
    "print(\"Green channel shape:\", g_channel.shape)\n",
    "print(\"Red channel shape:\", r_channel.shape)\n",
    "merged_image = cv2.merge([b_channel, g_channel, r_channel])\n",
    "cv2.imwrite(\"merged_image.jpg\", merged_image)\n",
    "cv2.imshow(\"Merged Image\", merged_image)\n",
    "cv2.waitKey(0)\n",
    "cv2.destroyAllWindows()"
   ]
  },
  {
   "cell_type": "code",
   "execution_count": 3,
   "id": "06452916",
   "metadata": {},
   "outputs": [
    {
     "name": "stdout",
     "output_type": "stream",
     "text": [
      "Pixel value at (100, 50): [252 232 215]\n",
      "Blue: 252, Green: 232, Red: 215\n"
     ]
    }
   ],
   "source": [
    "pixel = image[100, 50]\n",
    "print(\"Pixel value at (100, 50):\", pixel) # Output: [B, G, R]\n",
    "blue = image[100, 50, 0]\n",
    "green = image[100, 50, 1]\n",
    "red = image[100, 50, 2]\n",
    "print(f\"Blue: {blue}, Green: {green}, Red: {red}\")"
   ]
  },
  {
   "cell_type": "code",
   "execution_count": 4,
   "id": "73662585",
   "metadata": {},
   "outputs": [],
   "source": [
    "image[100, 50] = [0, 0, 255] # [Blue, Green, Red]\n",
    "image[50:100, 100:200] = [255, 255, 255]\n",
    "cv2.imwrite(\"modified_image.jpg\", image)\n",
    "cv2.imshow(\"Modified Image\", image)\n",
    "cv2.waitKey(0)\n",
    "cv2.destroyAllWindows()"
   ]
  }
 ],
 "metadata": {
  "kernelspec": {
   "display_name": "Python 3",
   "language": "python",
   "name": "python3"
  },
  "language_info": {
   "codemirror_mode": {
    "name": "ipython",
    "version": 3
   },
   "file_extension": ".py",
   "mimetype": "text/x-python",
   "name": "python",
   "nbconvert_exporter": "python",
   "pygments_lexer": "ipython3",
   "version": "3.12.6"
  }
 },
 "nbformat": 4,
 "nbformat_minor": 5
}
