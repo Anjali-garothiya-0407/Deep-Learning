{
 "cells": [
  {
   "cell_type": "markdown",
   "id": "c5d9336e",
   "metadata": {},
   "source": [
    "Q3. Video Capture and Save Write a Python program to: Record a short video from the webcam Save it as an .avi file Play it back frame-by-frame using OpenCV."
   ]
  },
  {
   "cell_type": "code",
   "execution_count": 5,
   "id": "a055ed4e",
   "metadata": {},
   "outputs": [],
   "source": [
    "import cv2"
   ]
  },
  {
   "cell_type": "code",
   "execution_count": 6,
   "id": "920cffcc",
   "metadata": {},
   "outputs": [],
   "source": [
    "def record_video(filename='output.avi', duration=10, fps=20.0, frame_size=(640, 480)):\n",
    " \n",
    "    cap = cv2.VideoCapture(0)\n",
    "    if not cap.isOpened():\n",
    "        print(\"Cannot open webcam\")\n",
    "        return\n",
    "\n",
    "\n",
    "    fourcc = cv2.VideoWriter_fourcc(*'XVID')\n",
    "    out = cv2.VideoWriter(filename, fourcc, fps, frame_size)\n",
    "\n",
    "    print(f\"Recording started for {duration} seconds... Press 'q' to stop early.\")\n",
    "    import time\n",
    "    start = time.time()\n",
    "\n",
    "    while True:\n",
    "        ret, frame = cap.read()\n",
    "        if not ret:\n",
    "            print(\"Failed to grab frame\")\n",
    "            break\n",
    "\n",
    "        out.write(frame)                \n",
    "        cv2.imshow('Recording (Press q to stop)', frame)\n",
    "\n",
    "       \n",
    "        if (time.time() - start) > duration or cv2.waitKey(1) & 0xFF == ord('q'):\n",
    "            break\n",
    "\n",
    "\n",
    "    cap.release()\n",
    "    out.release()\n",
    "    cv2.destroyAllWindows()\n",
    "    print(\"Recording stopped and file saved.\")"
   ]
  },
  {
   "cell_type": "code",
   "execution_count": 7,
   "id": "3ca609de",
   "metadata": {},
   "outputs": [],
   "source": [
    "def playback_video(filename='output.avi'):\n",
    "    cap = cv2.VideoCapture(filename)\n",
    "    if not cap.isOpened():\n",
    "        print(f\"Cannot open file {filename}\")\n",
    "        return\n",
    "\n",
    "    print(\"Playing back video frame-by-frame. Press 'q' to exit.\")\n",
    "    while True:\n",
    "        ret, frame = cap.read()\n",
    "        if not ret:  \n",
    "            break\n",
    "\n",
    "        cv2.imshow('Playback', frame)\n",
    "        if cv2.waitKey(int(1000 / cap.get(cv2.CAP_PROP_FPS))) & 0xFF == ord('q'):\n",
    "            break\n",
    "\n",
    "    cap.release()\n",
    "    cv2.destroyAllWindows()\n",
    "    print(\"Playback finished.\")"
   ]
  },
  {
   "cell_type": "code",
   "execution_count": null,
   "id": "0255a234",
   "metadata": {},
   "outputs": [
    {
     "name": "stdout",
     "output_type": "stream",
     "text": [
      "Cannot open webcam\n",
      "Cannot open file my_capture.avi\n"
     ]
    }
   ],
   "source": [
    "if __name__ == '__main__':\n",
    "    record_video(filename='my_capture.avi', duration=10, fps=20.0, frame_size=(640,480))\n",
    "    playback_video(filename='my_capture.avi')"
   ]
  }
 ],
 "metadata": {
  "kernelspec": {
   "display_name": "Python 3",
   "language": "python",
   "name": "python3"
  },
  "language_info": {
   "codemirror_mode": {
    "name": "ipython",
    "version": 3
   },
   "file_extension": ".py",
   "mimetype": "text/x-python",
   "name": "python",
   "nbconvert_exporter": "python",
   "pygments_lexer": "ipython3",
   "version": "3.12.6"
  }
 },
 "nbformat": 4,
 "nbformat_minor": 5
}
