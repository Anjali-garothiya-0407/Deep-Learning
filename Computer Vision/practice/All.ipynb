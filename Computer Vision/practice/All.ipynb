{
 "cells": [
  {
   "cell_type": "code",
   "execution_count": 1,
   "id": "127da575",
   "metadata": {},
   "outputs": [],
   "source": [
    "import cv2\n",
    "\n",
    "# Load an image\n",
    "image = cv2.imread(\"C:\\\\Users\\\\sdevelop\\\\Desktop\\\\vegan-plant-based-news-vegan-recipes-livekindly.jpg\")\n",
    "\n",
    "# Resize\n",
    "resized = cv2.resize(image, (400, 400))\n",
    "\n",
    "# Convert to Grayscale\n",
    "gray = cv2.cvtColor(resized, cv2.COLOR_BGR2GRAY)\n",
    "\n",
    "# Blur\n",
    "blurred = cv2.GaussianBlur(gray, (5, 5), 0)\n",
    "\n",
    "# Edge Detection\n",
    "edges = cv2.Canny(blurred, 50, 150)\n",
    "\n",
    "# Display images\n",
    "cv2.imshow('Original', image)\n",
    "cv2.imshow('Gray', gray)\n",
    "cv2.imshow('Edges', edges)\n",
    "cv2.waitKey(0)\n",
    "cv2.destroyAllWindows()\n"
   ]
  },
  {
   "cell_type": "code",
   "execution_count": 2,
   "id": "698f146d",
   "metadata": {},
   "outputs": [],
   "source": [
    "import cv2\n",
    "\n",
    "# Open webcam (0 = default camera) or video file\n",
    "cap = cv2.VideoCapture(0)  # or use 'video.mp4'\n",
    "\n",
    "while True:\n",
    "    ret, frame = cap.read()\n",
    "    if not ret:\n",
    "        break\n",
    "\n",
    "    # Convert to gray\n",
    "    gray = cv2.cvtColor(frame, cv2.COLOR_BGR2GRAY)\n",
    "\n",
    "    # Edge detection\n",
    "    edges = cv2.Canny(gray, 50, 150)\n",
    "\n",
    "    # Display\n",
    "    cv2.imshow('Original', frame)\n",
    "    cv2.imshow('Edges', edges)\n",
    "\n",
    "    # Exit on pressing 'q'\n",
    "    if cv2.waitKey(1) & 0xFF == ord('q'):\n",
    "        break\n",
    "\n",
    "cap.release()\n",
    "cv2.destroyAllWindows()"
   ]
  },
  {
   "cell_type": "code",
   "execution_count": 3,
   "id": "fc774705",
   "metadata": {},
   "outputs": [],
   "source": [
    "import cv2\n",
    "\n",
    "# Load pre-trained face detection model\n",
    "face_cascade = cv2.CascadeClassifier(cv2.data.haarcascades + 'haarcascade_frontalface_default.xml')\n",
    "\n",
    "# Start webcam\n",
    "cap = cv2.VideoCapture(0)\n",
    "\n",
    "while True:\n",
    "    ret, frame = cap.read()\n",
    "    if not ret:\n",
    "        break\n",
    "\n",
    "    gray = cv2.cvtColor(frame, cv2.COLOR_BGR2GRAY)\n",
    "\n",
    "    # Detect faces\n",
    "    faces = face_cascade.detectMultiScale(gray, scaleFactor=1.1, minNeighbors=5)\n",
    "\n",
    "    # Draw rectangles around faces\n",
    "    for (x, y, w, h) in faces:\n",
    "        cv2.rectangle(frame, (x, y), (x+w, y+h), (255, 0, 0), 2)\n",
    "\n",
    "    cv2.imshow('Face Detection', frame)\n",
    "\n",
    "    if cv2.waitKey(1) & 0xFF == ord('q'):\n",
    "        break\n",
    "\n",
    "cap.release()\n",
    "cv2.destroyAllWindows()\n"
   ]
  },
  {
   "cell_type": "code",
   "execution_count": 4,
   "id": "8616abb1",
   "metadata": {},
   "outputs": [],
   "source": [
    "import cv2\n",
    "\n",
    "img = cv2.imread('C:\\\\Users\\\\sdevelop\\\\Desktop\\\\vegan-plant-based-news-vegan-recipes-livekindly.jpg')\n",
    "edges = cv2.Canny(img, 100, 200)\n",
    "cv2.imshow('Canny Edge', edges)\n",
    "cv2.waitKey(0)\n",
    "cv2.destroyAllWindows()\n"
   ]
  },
  {
   "cell_type": "code",
   "execution_count": 5,
   "id": "99fcdcf0",
   "metadata": {},
   "outputs": [],
   "source": [
    "import cv2\n",
    "\n",
    "img = cv2.imread('C:\\\\Users\\\\sdevelop\\\\Desktop\\\\vegan-plant-based-news-vegan-recipes-livekindly.jpg', 0)\n",
    "laplacian = cv2.Laplacian(img, cv2.CV_64F)\n",
    "cv2.imshow('Laplacian', laplacian)\n",
    "cv2.waitKey(0)\n",
    "cv2.destroyAllWindows()\n"
   ]
  },
  {
   "cell_type": "code",
   "execution_count": 6,
   "id": "1a11409d",
   "metadata": {},
   "outputs": [],
   "source": [
    "import cv2\n",
    "import numpy as np\n",
    "\n",
    "img = cv2.imread('C:\\\\Users\\\\sdevelop\\\\Desktop\\\\vegan-plant-based-news-vegan-recipes-livekindly.jpg')\n",
    "gray = cv2.cvtColor(img, cv2.COLOR_BGR2GRAY)\n",
    "gray = np.float32(gray)\n",
    "\n",
    "corners = cv2.cornerHarris(gray, 2, 3, 0.04)\n",
    "img[corners > 0.01 * corners.max()] = [0, 0, 255]\n",
    "cv2.imshow('Harris Corners', img)\n",
    "cv2.waitKey(0)\n",
    "cv2.destroyAllWindows()\n"
   ]
  },
  {
   "cell_type": "code",
   "execution_count": 7,
   "id": "c606b427",
   "metadata": {},
   "outputs": [],
   "source": [
    "import cv2\n",
    "\n",
    "img = cv2.imread('C:\\\\Users\\\\sdevelop\\\\Desktop\\\\vegan-plant-based-news-vegan-recipes-livekindly.jpg')\n",
    "gray = cv2.cvtColor(img, cv2.COLOR_BGR2GRAY)\n",
    "corners = cv2.goodFeaturesToTrack(gray, 100, 0.01, 10)\n",
    "\n",
    "for corner in corners:\n",
    "    x, y = corner.ravel()\n",
    "    cv2.circle(img, (int(x), int(y)), 3, (255, 0, 0), -1)\n",
    "\n",
    "cv2.imshow('Shi-Tomasi Corners', img)\n",
    "cv2.waitKey(0)\n",
    "cv2.destroyAllWindows()"
   ]
  },
  {
   "cell_type": "code",
   "execution_count": 8,
   "id": "be8c5f6d",
   "metadata": {},
   "outputs": [],
   "source": [
    "import cv2\n",
    "\n",
    "img = cv2.imread('C:\\\\Users\\\\sdevelop\\\\Desktop\\\\vegan-plant-based-news-vegan-recipes-livekindly.jpg', 0)\n",
    "_, binary = cv2.threshold(img, 127, 255, cv2.THRESH_BINARY)\n",
    "cv2.imshow('Binary Threshold', binary)\n",
    "cv2.waitKey(0)\n",
    "cv2.destroyAllWindows()\n"
   ]
  },
  {
   "cell_type": "code",
   "execution_count": 9,
   "id": "4fe269ff",
   "metadata": {},
   "outputs": [],
   "source": [
    "img = cv2.imread('C:\\\\Users\\\\sdevelop\\\\Desktop\\\\vegan-plant-based-news-vegan-recipes-livekindly.jpg', 0)\n",
    "adaptive = cv2.adaptiveThreshold(img, 255, cv2.ADAPTIVE_THRESH_MEAN_C,\n",
    "                                 cv2.THRESH_BINARY, 11, 2)\n",
    "cv2.imshow('Adaptive Threshold', adaptive)\n",
    "cv2.waitKey(0)\n",
    "cv2.destroyAllWindows()\n"
   ]
  },
  {
   "cell_type": "code",
   "execution_count": 10,
   "id": "ddafd610",
   "metadata": {},
   "outputs": [],
   "source": [
    "img = cv2.imread('C:\\\\Users\\\\sdevelop\\\\Desktop\\\\vegan-plant-based-news-vegan-recipes-livekindly.jpg', 0)\n",
    "_, otsu = cv2.threshold(img, 0, 255, cv2.THRESH_BINARY + cv2.THRESH_OTSU)\n",
    "cv2.imshow('Otsu Binarization', otsu)\n",
    "cv2.waitKey(0)\n",
    "cv2.destroyAllWindows()\n"
   ]
  },
  {
   "cell_type": "code",
   "execution_count": 11,
   "id": "d434bbfb",
   "metadata": {},
   "outputs": [],
   "source": [
    "img = cv2.imread('C:\\\\Users\\\\sdevelop\\\\Desktop\\\\vegan-plant-based-news-vegan-recipes-livekindly.jpg')\n",
    "\n",
    "gaussian = cv2.GaussianBlur(img, (5, 5), 0)\n",
    "median = cv2.medianBlur(img, 5)\n",
    "bilateral = cv2.bilateralFilter(img, 9, 75, 75)\n",
    "\n",
    "cv2.imshow('Gaussian Blur', gaussian)\n",
    "cv2.imshow('Median Blur', median)\n",
    "cv2.imshow('Bilateral Filter', bilateral)\n",
    "cv2.waitKey(0)\n",
    "cv2.destroyAllWindows()\n"
   ]
  },
  {
   "cell_type": "code",
   "execution_count": null,
   "id": "a22c2442",
   "metadata": {},
   "outputs": [],
   "source": [
    "import cv2\n",
    "\n",
    "img1 = cv2.imread(\"C:\\\\\\Users\\\\sdevelop\\\\Downloads\\\\WhatsApp Image 2025-06-25 at 3.19.33 PM (1).jpeg\")\n",
    "img2 = cv2.imread(\"C:\\\\Users\\\\sdevelop\\\\Downloads\\\\WhatsApp Image 2025-06-25 at 3.19.33 PM.jpeg\")\n",
    "\n",
    "stitcher = cv2.Stitcher.create()\n",
    "(status, stitched) = stitcher.stitch([img1, img2])\n",
    "\n",
    "if status == cv2.Stitcher_OK:\n",
    "    cv2.imshow(\"Stitched\", stitched)\n",
    "    cv2.waitKey(0)\n",
    "    cv2.destroyAllWindows()\n"
   ]
  },
  {
   "cell_type": "code",
   "execution_count": null,
   "id": "3d21fed8",
   "metadata": {},
   "outputs": [],
   "source": [
    "import cv2\n",
    "\n",
    "cap = cv2.VideoCapture(0)\n",
    "while True:\n",
    "    ret, frame = cap.read()\n",
    "    cv2.imshow('Webcam', frame)\n",
    "    if cv2.waitKey(1) & 0xFF == ord('q'):\n",
    "        break\n",
    "cap.release()\n",
    "cv2.destroyAllWindows()\n"
   ]
  },
  {
   "cell_type": "code",
   "execution_count": null,
   "id": "50bacbb2",
   "metadata": {},
   "outputs": [],
   "source": [
    "import cv2\n",
    "\n",
    "face_cascade = cv2.CascadeClassifier(cv2.data.haarcascades + 'haarcascade_frontalface_default.xml')\n",
    "cap = cv2.VideoCapture(0)\n",
    "\n",
    "while True:\n",
    "    ret, frame = cap.read()\n",
    "    gray = cv2.cvtColor(frame, cv2.COLOR_BGR2GRAY)\n",
    "    faces = face_cascade.detectMultiScale(gray, 1.1, 4)\n",
    "\n",
    "    for (x, y, w, h) in faces:\n",
    "        cv2.rectangle(frame, (x, y), (x+w, y+h), (255, 0, 0), 2)\n",
    "\n",
    "    cv2.imshow('Face Detection', frame)\n",
    "    if cv2.waitKey(1) & 0xFF == ord('q'):\n",
    "        break\n",
    "\n",
    "cap.release()\n",
    "cv2.destroyAllWindows()\n"
   ]
  },
  {
   "cell_type": "code",
   "execution_count": null,
   "id": "608f35f5",
   "metadata": {},
   "outputs": [],
   "source": [
    "import cv2\n",
    "\n",
    "tracker = cv2.TrackerKCF_create()\n",
    "cap = cv2.VideoCapture('C:\\\\Users\\\\sdevelop\\\\Downloads\\\\vid.mp4')\n",
    "ret, frame = cap.read()\n",
    "bbox = cv2.selectROI('Tracking', frame, False)\n",
    "tracker.init(frame, bbox)\n",
    "\n",
    "while True:\n",
    "    ret, frame = cap.read()\n",
    "    success, box = tracker.update(frame)\n",
    "\n",
    "    if success:\n",
    "        x, y, w, h = [int(i) for i in box]\n",
    "        cv2.rectangle(frame, (x, y), (x + w, y + h), (0, 255, 0), 3)\n",
    "\n",
    "    cv2.imshow(\"Tracking\", frame)\n",
    "    if cv2.waitKey(1) & 0xFF == ord('q'):\n",
    "        break\n",
    "cap.release()\n",
    "cv2.destroyAllWindows()\n"
   ]
  }
 ],
 "metadata": {
  "kernelspec": {
   "display_name": "Python 3",
   "language": "python",
   "name": "python3"
  },
  "language_info": {
   "codemirror_mode": {
    "name": "ipython",
    "version": 3
   },
   "file_extension": ".py",
   "mimetype": "text/x-python",
   "name": "python",
   "nbconvert_exporter": "python",
   "pygments_lexer": "ipython3",
   "version": "3.12.6"
  }
 },
 "nbformat": 4,
 "nbformat_minor": 5
}
