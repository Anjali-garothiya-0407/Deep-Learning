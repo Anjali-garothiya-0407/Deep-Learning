{
 "cells": [
  {
   "cell_type": "markdown",
   "id": "184554b5",
   "metadata": {},
   "source": [
    "Q1. Basic image operartions load an image and perform the following:\n",
    "\n",
    ". Convert it to grayscale\n",
    "\n",
    ". Resize it to 200x200 pixels\n",
    "\n",
    ". Save the new image to disk"
   ]
  },
  {
   "cell_type": "code",
   "execution_count": 2,
   "id": "f7f6348e",
   "metadata": {},
   "outputs": [],
   "source": [
    "import cv2"
   ]
  },
  {
   "cell_type": "code",
   "execution_count": 3,
   "id": "d549b289",
   "metadata": {},
   "outputs": [],
   "source": [
    "image = cv2.imread(\"C:\\\\Users\\\\sdevelop\\\\Desktop\\\\horse.jpg\")\n"
   ]
  },
  {
   "cell_type": "markdown",
   "id": "e208649b",
   "metadata": {},
   "source": [
    "Gray scale"
   ]
  },
  {
   "cell_type": "code",
   "execution_count": 4,
   "id": "3e0dbed8",
   "metadata": {},
   "outputs": [],
   "source": [
    "gray_scale = cv2.cvtColor(image, cv2.COLOR_BGR2GRAY)\n",
    "cv2.imshow(\"Gray scale image:\", gray_scale)\n",
    "cv2.waitKey(0)\n",
    "cv2.destroyAllWindows()"
   ]
  },
  {
   "cell_type": "code",
   "execution_count": 5,
   "id": "c5e8e267",
   "metadata": {},
   "outputs": [
    {
     "data": {
      "text/plain": [
       "(700, 1024)"
      ]
     },
     "execution_count": 5,
     "metadata": {},
     "output_type": "execute_result"
    }
   ],
   "source": [
    "gray_scale.shape"
   ]
  },
  {
   "cell_type": "markdown",
   "id": "e506ac8c",
   "metadata": {},
   "source": [
    "Resize"
   ]
  },
  {
   "cell_type": "code",
   "execution_count": 7,
   "id": "e0acb74f",
   "metadata": {},
   "outputs": [],
   "source": [
    "resize_img = cv2.resize(gray_scale,(200,200))\n",
    "cv2.imshow(\"Resized image:\", resize_img)\n",
    "cv2.waitKey(0)\n",
    "cv2.destroyAllWindows()"
   ]
  },
  {
   "cell_type": "markdown",
   "id": "ff6da5b6",
   "metadata": {},
   "source": [
    "Saved Image"
   ]
  },
  {
   "cell_type": "code",
   "execution_count": 8,
   "id": "74202ee7",
   "metadata": {},
   "outputs": [],
   "source": [
    "save = cv2.imwrite(\"practice_image.jpg\",resize_img)\n"
   ]
  }
 ],
 "metadata": {
  "kernelspec": {
   "display_name": "Python 3",
   "language": "python",
   "name": "python3"
  },
  "language_info": {
   "codemirror_mode": {
    "name": "ipython",
    "version": 3
   },
   "file_extension": ".py",
   "mimetype": "text/x-python",
   "name": "python",
   "nbconvert_exporter": "python",
   "pygments_lexer": "ipython3",
   "version": "3.12.6"
  }
 },
 "nbformat": 4,
 "nbformat_minor": 5
}
