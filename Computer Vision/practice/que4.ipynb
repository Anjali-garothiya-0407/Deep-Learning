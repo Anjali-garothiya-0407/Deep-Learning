{
 "cells": [
  {
   "cell_type": "markdown",
   "id": "68edc6bc",
   "metadata": {},
   "source": [
    "Q4. Image Thresholding Techniques Implement three types of thresholding on the same image: \n",
    "- Simple Thresholding \n",
    "- Adaptive Thresholding \n",
    "- Otsu’s Binarization\n",
    "Display the result in a 2x2 plot layout."
   ]
  },
  {
   "cell_type": "code",
   "execution_count": 10,
   "id": "7b0b89d1",
   "metadata": {},
   "outputs": [],
   "source": [
    "import cv2"
   ]
  },
  {
   "cell_type": "code",
   "execution_count": 11,
   "id": "622c26ea",
   "metadata": {},
   "outputs": [],
   "source": [
    "img = cv2.imread(\"C:\\\\Users\\\\sdevelop\\\\Desktop\\\\horse.jpg\")"
   ]
  },
  {
   "cell_type": "code",
   "execution_count": 23,
   "id": "8f68c05d",
   "metadata": {},
   "outputs": [],
   "source": [
    "gray = cv2.cvtColor(img, cv2.COLOR_BGR2GRAY)\n",
    "cv2.imshow(\"Garay image:\", gray)\n",
    "cv2.waitKey(0)\n",
    "cv2.destroyAllWindows()"
   ]
  },
  {
   "cell_type": "code",
   "execution_count": 24,
   "id": "aaea7035",
   "metadata": {},
   "outputs": [],
   "source": [
    "_, simple_thresold = cv2.threshold(img, 127, 255, cv2.THRESH_BINARY)\n",
    "\n",
    "cv2.imshow('Binary Threshold', simple_thresold)\n",
    "cv2.waitKey(0)\n",
    "cv2.destroyAllWindows()"
   ]
  },
  {
   "cell_type": "code",
   "execution_count": 25,
   "id": "c63bb219",
   "metadata": {},
   "outputs": [],
   "source": [
    "adaptive = cv2.adaptiveThreshold(gray, 255, cv2.ADAPTIVE_THRESH_MEAN_C,cv2.THRESH_BINARY, 11, 2)\n",
    "\n",
    "cv2.imshow('Adaptive Threshold', adaptive)\n",
    "cv2.waitKey(0)\n",
    "cv2.destroyAllWindows()"
   ]
  },
  {
   "cell_type": "code",
   "execution_count": 26,
   "id": "f078dc59",
   "metadata": {},
   "outputs": [],
   "source": [
    "_, otsu = cv2.threshold(gray, 0, 255, cv2.THRESH_BINARY + cv2.THRESH_OTSU)\n",
    "\n",
    "cv2.imshow('Otsu Binarization', otsu)\n",
    "cv2.waitKey(0)\n",
    "cv2.destroyAllWindows()"
   ]
  }
 ],
 "metadata": {
  "kernelspec": {
   "display_name": "Python 3",
   "language": "python",
   "name": "python3"
  },
  "language_info": {
   "codemirror_mode": {
    "name": "ipython",
    "version": 3
   },
   "file_extension": ".py",
   "mimetype": "text/x-python",
   "name": "python",
   "nbconvert_exporter": "python",
   "pygments_lexer": "ipython3",
   "version": "3.12.6"
  }
 },
 "nbformat": 4,
 "nbformat_minor": 5
}
