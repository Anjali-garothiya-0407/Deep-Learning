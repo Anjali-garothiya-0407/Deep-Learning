{
 "cells": [
  {
   "cell_type": "code",
   "execution_count": 1,
   "id": "3fed5586",
   "metadata": {},
   "outputs": [],
   "source": [
    "import cv2"
   ]
  },
  {
   "cell_type": "markdown",
   "id": "1b6d3c46",
   "metadata": {},
   "source": [
    "Image read"
   ]
  },
  {
   "cell_type": "code",
   "execution_count": 2,
   "id": "d1c803e7",
   "metadata": {},
   "outputs": [],
   "source": [
    "image = cv2.imread(\"C:\\\\Users\\\\sdevelop\\\\Desktop\\\\horse.jpg\")\n",
    "cv2.imshow(\"Displayed image\", image)\n",
    "cv2.waitKey(0)\n",
    "cv2.destroyAllWindows()"
   ]
  },
  {
   "cell_type": "markdown",
   "id": "39a3bc88",
   "metadata": {},
   "source": [
    "Image save"
   ]
  },
  {
   "cell_type": "code",
   "execution_count": 3,
   "id": "ae360d2a",
   "metadata": {},
   "outputs": [],
   "source": [
    "saveImage = cv2.imwrite(\"saveimage.jpg\", image)"
   ]
  },
  {
   "cell_type": "markdown",
   "id": "ded8cbff",
   "metadata": {},
   "source": [
    "Grayscale Image"
   ]
  },
  {
   "cell_type": "code",
   "execution_count": 4,
   "id": "32b6b933",
   "metadata": {},
   "outputs": [],
   "source": [
    "gray_imge = cv2.imread(\"C:\\\\Users\\\\sdevelop\\\\Desktop\\\\horse.jpg\", cv2.IMREAD_GRAYSCALE)\n",
    "alphaImage = cv2.imread(\"saveimage.jpg\", cv2.IMREAD_UNCHANGED)"
   ]
  },
  {
   "cell_type": "markdown",
   "id": "da1a4d02",
   "metadata": {},
   "source": [
    "BMP Image"
   ]
  },
  {
   "cell_type": "code",
   "execution_count": 5,
   "id": "63685551",
   "metadata": {},
   "outputs": [
    {
     "data": {
      "text/plain": [
       "True"
      ]
     },
     "execution_count": 5,
     "metadata": {},
     "output_type": "execute_result"
    }
   ],
   "source": [
    "BMP = cv2.imwrite(\"image.bmp\", gray_imge)\n",
    "BMP"
   ]
  },
  {
   "cell_type": "markdown",
   "id": "395011eb",
   "metadata": {},
   "source": [
    "Lab 2"
   ]
  },
  {
   "cell_type": "markdown",
   "id": "07e9b868",
   "metadata": {},
   "source": [
    "Resize Image"
   ]
  },
  {
   "cell_type": "code",
   "execution_count": 6,
   "id": "ffd8142a",
   "metadata": {},
   "outputs": [],
   "source": [
    "resizedImage = cv2.resize(image,(500,300))\n",
    "cv2.imwrite(\"resized image.jpg\", resizedImage)\n",
    "cv2.imshow(\"Resized image\", resizedImage)\n",
    "cv2.waitKey(0)\n",
    "cv2.destroyAllWindows()"
   ]
  },
  {
   "cell_type": "markdown",
   "id": "43e7d692",
   "metadata": {},
   "source": [
    "Rotate Image"
   ]
  },
  {
   "cell_type": "code",
   "execution_count": 7,
   "id": "8c26f9bf",
   "metadata": {},
   "outputs": [],
   "source": [
    "rotated = cv2.rotate(image, cv2.ROTATE_90_CLOCKWISE)\n",
    "cv2.imshow(\"Rotated\", rotated)\n",
    "cv2.waitKey(0)\n",
    "cv2.destroyAllWindows()"
   ]
  },
  {
   "cell_type": "markdown",
   "id": "a1ec3449",
   "metadata": {},
   "source": [
    "Flip Image"
   ]
  },
  {
   "cell_type": "code",
   "execution_count": 8,
   "id": "2ec595c8",
   "metadata": {},
   "outputs": [],
   "source": [
    "flipped_horizontally = cv2.flip(image, 1)\n",
    "flipped_vertically = cv2.flip(image, 0)\n",
    "flipped_both =cv2.flip(image, -1)"
   ]
  },
  {
   "cell_type": "code",
   "execution_count": 9,
   "id": "1182d8f5",
   "metadata": {},
   "outputs": [],
   "source": [
    "cv2.imwrite(\"flipped_horizontal.jpg\", flipped_horizontally)\n",
    "cv2.imwrite(\"flipped_vertical.jpg\", flipped_vertically)\n",
    "cv2.imwrite(\"flipped_both.jpg\",flipped_both)\n",
    "cv2.imshow(\"flipped_horizontal.jpg\", flipped_horizontally)\n",
    "cv2.imshow(\"flipped_vertical.jpg\", flipped_vertically)\n",
    "cv2.imshow(\"flipped_both.jpg\",flipped_both)\n",
    "cv2.waitKey(0)\n",
    "cv2.destroyAllWindows()"
   ]
  },
  {
   "cell_type": "markdown",
   "id": "bb5f5a26",
   "metadata": {},
   "source": [
    "Image crop"
   ]
  },
  {
   "cell_type": "code",
   "execution_count": 10,
   "id": "cbf423fe",
   "metadata": {},
   "outputs": [],
   "source": [
    "cropped_image = image[50:250, 100:400]\n",
    "cv2.imwrite(\"cropped_image.jpg\", cropped_image)\n",
    "cv2.imshow(\"cropped image\", cropped_image)\n",
    "cv2.waitKey(0)\n",
    "cv2.destroyAllWindows()"
   ]
  }
 ],
 "metadata": {
  "kernelspec": {
   "display_name": "Python 3",
   "language": "python",
   "name": "python3"
  },
  "language_info": {
   "codemirror_mode": {
    "name": "ipython",
    "version": 3
   },
   "file_extension": ".py",
   "mimetype": "text/x-python",
   "name": "python",
   "nbconvert_exporter": "python",
   "pygments_lexer": "ipython3",
   "version": "3.12.6"
  }
 },
 "nbformat": 4,
 "nbformat_minor": 5
}
