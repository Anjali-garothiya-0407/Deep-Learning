{
 "cells": [
  {
   "cell_type": "markdown",
   "id": "18a51ccd",
   "metadata": {},
   "source": [
    "Reading Video from a File\n"
   ]
  },
  {
   "cell_type": "code",
   "execution_count": 4,
   "id": "02f594ac",
   "metadata": {},
   "outputs": [],
   "source": [
    "import cv2\n"
   ]
  },
  {
   "cell_type": "code",
   "execution_count": 5,
   "id": "4af89fd0",
   "metadata": {},
   "outputs": [],
   "source": [
    "video_path = \"C:\\\\Users\\\\sdevelop\\\\Downloads\\\\vid.mp4\"\n",
    "cap = cv2.VideoCapture(video_path)"
   ]
  },
  {
   "cell_type": "code",
   "execution_count": 6,
   "id": "f3385baa",
   "metadata": {},
   "outputs": [
    {
     "name": "stdout",
     "output_type": "stream",
     "text": [
      "End of video or can't read the file.\n"
     ]
    }
   ],
   "source": [
    "while cap.isOpened():\n",
    "    ret, frame = cap.read()\n",
    "    if not ret:\n",
    "        print(\"End of video or can't read the file.\")\n",
    "        break\n",
    "    cv2.imshow('Video Playback', frame)\n",
    "    \n",
    "    if cv2.waitKey(25) & 0xFF == ord('q'):\n",
    "        break\n",
    "\n",
    "cap.release()  \n",
    "cv2.destroyAllWindows()\n"
   ]
  },
  {
   "cell_type": "markdown",
   "id": "4e916a89",
   "metadata": {},
   "source": [
    "Capturing Video from a Webcam"
   ]
  },
  {
   "cell_type": "code",
   "execution_count": null,
   "id": "587a8916",
   "metadata": {},
   "outputs": [
    {
     "name": "stdout",
     "output_type": "stream",
     "text": [
      "Error: could not open webcam\n",
      "Failed to grab frame\n"
     ]
    }
   ],
   "source": [
    "# cap = cv2.VideoCapture(0)\n",
    "\n",
    "# if not cap.isOpened():\n",
    "#     print(\"Error: could not open webcam\")\n",
    "#     exit()\n",
    "\n",
    "# while True:\n",
    "#     ret, frame = cap.read()\n",
    "#     if not ret:\n",
    "#         print(\"Failed to grab frame\")\n",
    "#         break\n",
    "#     cv2.imshow(\"webcam feed\", frame)\n",
    "\n",
    "#     if cv2.waitKey(1) & 0xFF == ord('q'):\n",
    "#         break\n",
    "# cap.release()\n",
    "# cv2.destroyAllWindows()"
   ]
  },
  {
   "cell_type": "markdown",
   "id": "fa7458bb",
   "metadata": {},
   "source": [
    "Displaying live stream\n"
   ]
  },
  {
   "cell_type": "code",
   "execution_count": 8,
   "id": "eb83a0ef",
   "metadata": {},
   "outputs": [
    {
     "name": "stdout",
     "output_type": "stream",
     "text": [
      "Error: could not access the webcam\n",
      "Failed to grab frame\n"
     ]
    }
   ],
   "source": [
    "cap = cv2.VideoCapture(0)\n",
    "\n",
    "if not cap.isOpened():\n",
    "    print(\"Error: could not access the webcam\")\n",
    "    exit()\n",
    "\n",
    "while True:\n",
    "    ret, frame = cap.read()\n",
    "    if not ret:\n",
    "        print(\"Failed to grab frame\")\n",
    "        break\n",
    "    cv2.imshow(\"Live Webcam Stream\", frame)\n",
    "\n",
    "    if cv2.waitKey(1) & 0xFF == ord('q'):\n",
    "        break\n",
    "cap.release()\n",
    "cv2.destroyAllWindows()"
   ]
  },
  {
   "cell_type": "markdown",
   "id": "02be1e5d",
   "metadata": {},
   "source": [
    "Extracting Frames & Creating Videos\n"
   ]
  },
  {
   "cell_type": "code",
   "execution_count": null,
   "id": "ed1f8c95",
   "metadata": {},
   "outputs": [],
   "source": [
    "cap = cv2.VideoCapture(\"C:\\\\Users\\\\sdevelop\\\\Downloads\\\\vid.mp4\")\n",
    "\n",
    "if not cap.isOpened():\n",
    "    print(\"Error: opening video file\")\n",
    "    exit()\n",
    "\n",
    "while True:\n",
    "    ret, frame = cap.read()\n",
    "    if not ret:\n",
    "        break\n",
    "\n",
    "    cv2.imshow(\"Frame\", frame)\n",
    "\n",
    "    if cv2.waitKey(25) & 0xFF == ord('q'):\n",
    "        break\n",
    "cap.release()\n",
    "cv2.destroyAllWindows()"
   ]
  },
  {
   "cell_type": "markdown",
   "id": "5806ace8",
   "metadata": {},
   "source": [
    "Extracting Frames & Creating Videos\n",
    "\n",
    " Saving individual frames as image files"
   ]
  },
  {
   "cell_type": "code",
   "execution_count": null,
   "id": "d6afdbc0",
   "metadata": {},
   "outputs": [],
   "source": [
    "import cv2\n",
    "import os"
   ]
  },
  {
   "cell_type": "code",
   "execution_count": null,
   "id": "35f0198e",
   "metadata": {},
   "outputs": [],
   "source": [
    "output_dir = 'saved_frame'\n",
    "os.makedirs(output_dir,exist_ok=True)\n",
    "\n",
    "cap = cv2.VideoCapture(\"C:\\\\Users\\\\Karishma\\\\OneDrive\\\\Desktop\\\\Normal Video.mp4\")\n",
    "if not cap.isOpened():\n",
    "    print(\"Error: cannot open video file.\")\n",
    "    exit()\n",
    "frame_number = 0\n",
    "while True:\n",
    "    ret, frame = cap.read()\n",
    "    if not ret:\n",
    "        break\n",
    "\n",
    "    filename = os.path.join(output_dir,f'frame_{frame_number:04d}.jpg')\n",
    "    cv2.imwrite(filename, frame)\n",
    "    print(f'Saved {filename}')\n",
    "    frame_number += 1\n",
    "cap.release()\n",
    "print(\"All frame saved successfully.\")"
   ]
  },
  {
   "cell_type": "markdown",
   "id": "fb43ee65",
   "metadata": {},
   "source": [
    "Object Tracking Techniques \n"
   ]
  },
  {
   "cell_type": "markdown",
   "id": "2f33078d",
   "metadata": {},
   "source": [
    "Mean Shift Tracking Algorithm\n"
   ]
  },
  {
   "cell_type": "code",
   "execution_count": null,
   "id": "4460a485",
   "metadata": {},
   "outputs": [],
   "source": [
    "import cv2\n",
    "\n",
    "cap = cv2.VideoCapture(\"C:\\\\Users\\\\Karishma\\\\OneDrive\\\\Desktop\\\\Normal Video.mp4\")\n",
    "\n",
    "ret, frame = cap.read()\n",
    "\n",
    "x, y, w, h = cv2.selectROI('Select Object', frame, False)\n",
    "track_window = (x, y, w, h)\n",
    "\n",
    "roi = frame[y:y+h, x:x+w]\n",
    "hsv_roi = cv2.cvtColor(roi, cv2.COLOR_BGR2HSV)\n",
    "\n",
    "mask = cv2.inRange(hsv_roi, (0, 60, 32), (180, 255, 255))\n",
    "\n",
    "roi_hist = cv2.calcHist([hsv_roi], [0], mask, [180], [0, 180])\n",
    "\n",
    "roi_hist = cv2.normalize(roi_hist, roi_hist, 0, 255, cv2.NORM_MINMAX)\n",
    "\n",
    "term_crit = (cv2.TERM_CRITERIA_EPS | cv2.TERM_CRITERIA_COUNT, 10, 1)\n",
    "\n",
    "while True:\n",
    "    ret, frame = cap.read()\n",
    "    if not ret:\n",
    "        break\n",
    "\n",
    "    hsv = cv2.cvtColor(frame, cv2.COLOR_BGR2HSV)\n",
    "\n",
    "    back_proj = cv2.calcBackProject([hsv], [0], roi_hist, [0, 180], 1)\n",
    "\n",
    "    ret, track_window = cv2.meanShift(back_proj, track_window, term_crit)\n",
    "\n",
    "    x, y, w, h = track_window\n",
    "    tracked_frame = cv2.rectangle(frame, (x, y), (x+w, y+h), (0, 255, 0), 2)\n",
    "\n",
    "    cv2.imshow('Mean Shift Tracking', tracked_frame)\n",
    "\n",
    "    if cv2.waitKey(30) & 0xFF == ord('q'):\n",
    "        break\n",
    "\n",
    "cap.release()\n",
    "cv2.destroyAllWindows()\n"
   ]
  },
  {
   "cell_type": "markdown",
   "id": "c2e38f06",
   "metadata": {},
   "source": [
    "Object Tracking Techniques \n",
    "\n",
    "Cam Shift Tracking Algorithm"
   ]
  },
  {
   "cell_type": "code",
   "execution_count": null,
   "id": "55bfea45",
   "metadata": {},
   "outputs": [],
   "source": [
    "import cv2\n",
    "\n",
    "cap = cv2.VideoCapture(\"C:\\Users\\sdevelop\\Downloads\\vid.mp4\")\n",
    "\n",
    "ret, frame = cap.read()\n",
    "\n",
    "x, y, w, h = cv2.selectROI(\"Frame\", frame, False)\n",
    "track_window = (x, y, w, h)\n",
    "\n",
    "roi = frame[y:y+h, x:x+w]\n",
    "hsv_roi = cv2.cvtColor(roi, cv2.COLOR_BGR2HSV)\n",
    "\n",
    "mask = cv2.inRange(hsv_roi, (0, 60, 32), (180, 255, 255))\n",
    "\n",
    "roi_hist = cv2.calcHist([hsv_roi], [0], mask, [180], [0, 180])\n",
    "roi_hist = cv2.normalize(roi_hist, roi_hist, 0, 255, cv2.NORM_MINMAX)\n",
    "\n",
    "term_crit = (cv2.TERM_CRITERIA_EPS | cv2.TERM_CRITERIA_COUNT, 10, 1)\n",
    "\n",
    "while True:\n",
    "    ret, frame = cap.read()\n",
    "    if not ret:\n",
    "        break\n",
    "\n",
    "    hsv = cv2.cvtColor(frame, cv2.COLOR_BGR2HSV)\n",
    "\n",
    "    back_proj = cv2.calcBackProject([hsv], [0], roi_hist, [0, 180], 1)\n",
    "\n",
    "    ret, track_window = cv2.CamShift(back_proj, track_window, term_crit)\n",
    "\n",
    "    pts = cv2.boxPoints(ret)\n",
    "    pts = pts.astype(int)\n",
    "    result = cv2.polylines(frame, [pts], True, (0, 255, 0), 2)\n",
    "\n",
    "    cv2.imshow('CamShift Tracking', result)\n",
    "\n",
    "    if cv2.waitKey(30) & 0xFF == ord('q'):\n",
    "        break\n",
    "\n",
    "cap.release()\n",
    "cv2.destroyAllWindows()\n"
   ]
  }
 ],
 "metadata": {
  "kernelspec": {
   "display_name": "Python 3",
   "language": "python",
   "name": "python3"
  },
  "language_info": {
   "codemirror_mode": {
    "name": "ipython",
    "version": 3
   },
   "file_extension": ".py",
   "mimetype": "text/x-python",
   "name": "python",
   "nbconvert_exporter": "python",
   "pygments_lexer": "ipython3",
   "version": "3.12.6"
  }
 },
 "nbformat": 4,
 "nbformat_minor": 5
}
