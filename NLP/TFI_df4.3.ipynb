{
 "cells": [
  {
   "cell_type": "code",
   "execution_count": 1,
   "id": "0e166613",
   "metadata": {},
   "outputs": [],
   "source": [
    "from sklearn.feature_extraction.text import TfidfVectorizer"
   ]
  },
  {
   "cell_type": "code",
   "execution_count": 6,
   "id": "a0590b65",
   "metadata": {},
   "outputs": [],
   "source": [
    "import pandas as pd\n"
   ]
  },
  {
   "cell_type": "code",
   "execution_count": 2,
   "id": "a401660a",
   "metadata": {},
   "outputs": [],
   "source": [
    "docs = [\n",
    " \"the sky is blue\",\n",
    " \"the sun is bright\",\n",
    " \"the sun in the sky is bright\"\n",
    "]\n"
   ]
  },
  {
   "cell_type": "code",
   "execution_count": 3,
   "id": "b4c49417",
   "metadata": {},
   "outputs": [],
   "source": [
    "vectorizer = TfidfVectorizer()\n"
   ]
  },
  {
   "cell_type": "code",
   "execution_count": 4,
   "id": "f8591001",
   "metadata": {},
   "outputs": [],
   "source": [
    "X = vectorizer.fit_transform(docs)"
   ]
  },
  {
   "cell_type": "code",
   "execution_count": 5,
   "id": "76ecdea7",
   "metadata": {},
   "outputs": [],
   "source": [
    "features = vectorizer.get_feature_names_out()"
   ]
  },
  {
   "cell_type": "code",
   "execution_count": 7,
   "id": "928a9fa9",
   "metadata": {},
   "outputs": [],
   "source": [
    "df_tfidf = pd.DataFrame(X.toarray(), columns=features)"
   ]
  },
  {
   "cell_type": "code",
   "execution_count": 8,
   "id": "c1e1ed73",
   "metadata": {},
   "outputs": [
    {
     "name": "stdout",
     "output_type": "stream",
     "text": [
      "      blue    bright        in        is       sky       sun       the\n",
      "0  0.66284  0.000000  0.000000  0.391484  0.504107  0.000000  0.391484\n",
      "1  0.00000  0.558478  0.000000  0.433708  0.000000  0.558478  0.433708\n",
      "2  0.00000  0.359341  0.472491  0.279061  0.359341  0.359341  0.558121\n"
     ]
    }
   ],
   "source": [
    "print(df_tfidf)"
   ]
  }
 ],
 "metadata": {
  "kernelspec": {
   "display_name": "Python 3",
   "language": "python",
   "name": "python3"
  },
  "language_info": {
   "codemirror_mode": {
    "name": "ipython",
    "version": 3
   },
   "file_extension": ".py",
   "mimetype": "text/x-python",
   "name": "python",
   "nbconvert_exporter": "python",
   "pygments_lexer": "ipython3",
   "version": "3.12.6"
  }
 },
 "nbformat": 4,
 "nbformat_minor": 5
}
