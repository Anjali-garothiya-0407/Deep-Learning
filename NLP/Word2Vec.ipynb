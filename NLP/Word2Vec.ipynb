{
 "cells": [
  {
   "cell_type": "code",
   "execution_count": 14,
   "id": "2aa46923",
   "metadata": {},
   "outputs": [],
   "source": [
    "from gensim.models import Word2Vec\n"
   ]
  },
  {
   "cell_type": "code",
   "execution_count": 15,
   "id": "be69d3f9",
   "metadata": {},
   "outputs": [],
   "source": [
    "import nltk\n"
   ]
  },
  {
   "cell_type": "code",
   "execution_count": 16,
   "id": "534a429d",
   "metadata": {},
   "outputs": [],
   "source": [
    "sentences = [\n",
    " \"the king loves his queen\",\n",
    " \"the queen loves the king\",\n",
    " \"the man is strong\",\n",
    " \"the woman is wise\",\n",
    " \"the king and the queen rule the kingdom\"\n",
    " \"queen uses iphone\"\n",
    "]\n"
   ]
  },
  {
   "cell_type": "code",
   "execution_count": 17,
   "id": "6200c70b",
   "metadata": {},
   "outputs": [],
   "source": [
    "tokenized_sentences = [nltk.word_tokenize(sent.lower()) for sent in sentences]"
   ]
  },
  {
   "cell_type": "code",
   "execution_count": 23,
   "id": "b1fb1350",
   "metadata": {},
   "outputs": [],
   "source": [
    "model = Word2Vec(sentences=tokenized_sentences, vector_size=50,window=3, min_count=1, workers=4)"
   ]
  },
  {
   "cell_type": "code",
   "execution_count": 24,
   "id": "e0276a88",
   "metadata": {},
   "outputs": [
    {
     "name": "stdout",
     "output_type": "stream",
     "text": [
      "Vector for 'king': [-0.01723734  0.00732975  0.01037732  0.01148313  0.01493186 -0.0123363\n",
      "  0.00221252  0.0120952  -0.0056807  -0.01234898 -0.00081918 -0.01673738\n",
      " -0.01119838  0.01421088  0.00670441  0.01445094  0.01360147  0.01506336\n",
      " -0.00757935 -0.0011273   0.00469774 -0.00903827  0.01677886 -0.01971403\n",
      "  0.01353006  0.00582768 -0.00986628  0.00879727 -0.00348039  0.01342337\n",
      "  0.01993068 -0.00872307 -0.00119875 -0.01139021  0.00770009  0.00557252\n",
      "  0.01378346  0.01220066  0.01907479  0.01854374  0.01579593 -0.01398007\n",
      " -0.01831086 -0.00071335 -0.00619769  0.01579043  0.01187734 -0.00309472\n",
      "  0.00302063  0.00357957]\n"
     ]
    }
   ],
   "source": [
    "print(\"Vector for 'king':\", model.wv['king'])\n"
   ]
  },
  {
   "cell_type": "code",
   "execution_count": 25,
   "id": "3829a53d",
   "metadata": {},
   "outputs": [
    {
     "name": "stdout",
     "output_type": "stream",
     "text": [
      "Most similar to 'queen': [('loves', 0.12486250698566437), ('strong', 0.08058667927980423), ('uses', 0.07398789376020432), ('the', 0.04236273840069771), ('iphone', 0.018277155235409737), ('his', 0.011398463509976864), ('king', 0.011066901497542858), ('and', 0.0013571369927376509), ('man', -0.01201415341347456), ('woman', -0.1094222441315651)]\n"
     ]
    }
   ],
   "source": [
    "print(\"Most similar to 'queen':\", model.wv.most_similar('queen'))"
   ]
  },
  {
   "cell_type": "code",
   "execution_count": 26,
   "id": "3a2fa970",
   "metadata": {},
   "outputs": [
    {
     "name": "stdout",
     "output_type": "stream",
     "text": [
      "king - man + woman ≈ [('his', 0.3099398910999298), ('uses', 0.18266119062900543), ('strong', 0.17102773487567902), ('rule', 0.11889532208442688), ('the', 0.08203936368227005)]\n"
     ]
    }
   ],
   "source": [
    "print(\"king - man + woman ≈\", model.wv.most_similar(positive=['king',\n",
    "'woman','iphone'], negative=['man'], topn=5))"
   ]
  }
 ],
 "metadata": {
  "kernelspec": {
   "display_name": "Python 3",
   "language": "python",
   "name": "python3"
  },
  "language_info": {
   "codemirror_mode": {
    "name": "ipython",
    "version": 3
   },
   "file_extension": ".py",
   "mimetype": "text/x-python",
   "name": "python",
   "nbconvert_exporter": "python",
   "pygments_lexer": "ipython3",
   "version": "3.12.6"
  }
 },
 "nbformat": 4,
 "nbformat_minor": 5
}
