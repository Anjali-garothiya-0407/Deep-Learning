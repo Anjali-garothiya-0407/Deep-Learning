{
 "cells": [
  {
   "cell_type": "code",
   "execution_count": 19,
   "id": "4242efe8",
   "metadata": {},
   "outputs": [
    {
     "name": "stdout",
     "output_type": "stream",
     "text": [
      "The Indian Space Research Organisation (ISRO) successfully launched the Chandrayaan-3 mission from the Satish Dhawan Space Centre in Sriharikota.\n",
      "The mission aims to explore the south pole of the Moon.\n",
      "Scientists across the country celebrated the achievement, calling it a giant leap for Indiaâ€™s space exploration program.\n"
     ]
    }
   ],
   "source": [
    "with open(\"C:\\\\Deep Learning\\\\NLP\\\\text.txt\",'r') as file:\n",
    "    text_data = file.read()\n",
    "    print(text_data)"
   ]
  },
  {
   "cell_type": "code",
   "execution_count": 20,
   "id": "4b322747",
   "metadata": {},
   "outputs": [],
   "source": [
    "def lowercase(text):\n",
    "    return text.lower()"
   ]
  },
  {
   "cell_type": "code",
   "execution_count": 21,
   "id": "8fae19a0",
   "metadata": {},
   "outputs": [],
   "source": [
    "import string\n",
    "def remove_punctuation(text):\n",
    "    return text.translate(str.maketrans('','',string.punctuation))"
   ]
  },
  {
   "cell_type": "code",
   "execution_count": 22,
   "id": "d59e14cf",
   "metadata": {},
   "outputs": [],
   "source": [
    "import re\n",
    "def remove_special_char(text):\n",
    "    return re.sub(r'[^a-zA-Z\\s]','',text)"
   ]
  },
  {
   "cell_type": "code",
   "execution_count": 23,
   "id": "0d577e34",
   "metadata": {},
   "outputs": [],
   "source": [
    "def remove_extra_whitespace(text):\n",
    "    return re.sub(r'\\s+',' ',text) "
   ]
  },
  {
   "cell_type": "code",
   "execution_count": 24,
   "id": "74e6afe7",
   "metadata": {},
   "outputs": [],
   "source": [
    "import nltk"
   ]
  },
  {
   "cell_type": "code",
   "execution_count": 25,
   "id": "9933854a",
   "metadata": {},
   "outputs": [],
   "source": [
    "from nltk.corpus import stopwords\n"
   ]
  },
  {
   "cell_type": "code",
   "execution_count": 26,
   "id": "3d3b5711",
   "metadata": {},
   "outputs": [
    {
     "data": {
      "text/plain": [
       "set"
      ]
     },
     "execution_count": 26,
     "metadata": {},
     "output_type": "execute_result"
    }
   ],
   "source": [
    "stop_words = set(stopwords.words('english'))\n",
    "type(stop_words)"
   ]
  },
  {
   "cell_type": "code",
   "execution_count": 27,
   "id": "2ab419a5",
   "metadata": {},
   "outputs": [],
   "source": [
    "from nltk.tokenize import word_tokenize"
   ]
  },
  {
   "cell_type": "code",
   "execution_count": 28,
   "metadata": {},
   "outputs": [],
   "source": [
    "def remove_stopwords(text):\n",
    "    words = word_tokenize(text)\n",
    "    filtered_words = [word for word in words if word not in stop_words]\n",
    "    return ' '.join(filtered_words)"
   ]
  },
  {
   "cell_type": "code",
   "execution_count": 29,
   "id": "36f71167",
   "metadata": {},
   "outputs": [],
   "source": [
    "def clean_text(text):\n",
    "    text = lowercase(text)\n",
    "    text = remove_punctuation(text)\n",
    "    text = remove_special_char(text)\n",
    "    text = remove_extra_whitespace(text)\n",
    "    text = remove_stopwords(text)\n",
    "    return text "
   ]
  },
  {
   "cell_type": "code",
   "execution_count": 30,
   "id": "7a3196f1",
   "metadata": {},
   "outputs": [],
   "source": [
    "text1 = clean_text(text_data)"
   ]
  },
  {
   "cell_type": "code",
   "execution_count": 31,
   "id": "b49b942e",
   "metadata": {},
   "outputs": [
    {
     "name": "stdout",
     "output_type": "stream",
     "text": [
      "indian space research organisation isro successfully launched chandrayaan mission satish dhawan space centre sriharikota mission aims explore south pole moon scientists across country celebrated achievement calling giant leap indias space exploration program\n"
     ]
    }
   ],
   "source": [
    "print(text1)"
   ]
  }
 ],
 "metadata": {
  "kernelspec": {
   "display_name": "Python 3",
   "language": "python",
   "name": "python3"
  },
  "language_info": {
   "codemirror_mode": {
    "name": "ipython",
    "version": 3
   },
   "file_extension": ".py",
   "mimetype": "text/x-python",
   "name": "python",
   "nbconvert_exporter": "python",
   "pygments_lexer": "ipython3",
   "version": "3.12.6"
  }
 },
 "nbformat": 4,
 "nbformat_minor": 5
}
