{
 "cells": [
  {
   "cell_type": "code",
   "execution_count": 1,
   "id": "daa23195",
   "metadata": {},
   "outputs": [],
   "source": [
    "import nltk\n",
    "from nltk.tokenize import word_tokenize\n",
    "from nltk import pos_tag, ne_chunk\n"
   ]
  },
  {
   "cell_type": "code",
   "execution_count": 2,
   "id": "5d53d6a5",
   "metadata": {},
   "outputs": [],
   "source": [
    "sentence = \"The Program Manager of Edunet, will visit Chennai NSTI on 20th June.\""
   ]
  },
  {
   "cell_type": "code",
   "execution_count": 3,
   "id": "add4527c",
   "metadata": {},
   "outputs": [],
   "source": [
    "tokens = word_tokenize(sentence)\n",
    "pos_tags = pos_tag(tokens)\n",
    "chunked_output = ne_chunk(pos_tags)"
   ]
  },
  {
   "cell_type": "code",
   "execution_count": 4,
   "id": "3b162070",
   "metadata": {},
   "outputs": [
    {
     "name": "stdout",
     "output_type": "stream",
     "text": [
      "Tokens: ['The', 'Program', 'Manager', 'of', 'Edunet', ',', 'will', 'visit', 'Chennai', 'NSTI', 'on', '20th', 'June', '.']\n",
      "POS Tags: [('The', 'DT'), ('Program', 'NNP'), ('Manager', 'NNP'), ('of', 'IN'), ('Edunet', 'NNP'), (',', ','), ('will', 'MD'), ('visit', 'VB'), ('Chennai', 'NNP'), ('NSTI', 'NNP'), ('on', 'IN'), ('20th', 'CD'), ('June', 'NNP'), ('.', '.')]\n",
      "Named Entity Chunking Tree:\n",
      "(S\n",
      "  The/DT\n",
      "  (ORGANIZATION Program/NNP Manager/NNP)\n",
      "  of/IN\n",
      "  (GPE Edunet/NNP)\n",
      "  ,/,\n",
      "  will/MD\n",
      "  visit/VB\n",
      "  (PERSON Chennai/NNP NSTI/NNP)\n",
      "  on/IN\n",
      "  20th/CD\n",
      "  June/NNP\n",
      "  ./.)\n"
     ]
    }
   ],
   "source": [
    "print(\"Tokens:\", tokens)\n",
    "print(\"POS Tags:\", pos_tags)\n",
    "print(\"Named Entity Chunking Tree:\")\n",
    "print(chunked_output)"
   ]
  }
 ],
 "metadata": {
  "kernelspec": {
   "display_name": "Python 3",
   "language": "python",
   "name": "python3"
  },
  "language_info": {
   "codemirror_mode": {
    "name": "ipython",
    "version": 3
   },
   "file_extension": ".py",
   "mimetype": "text/x-python",
   "name": "python",
   "nbconvert_exporter": "python",
   "pygments_lexer": "ipython3",
   "version": "3.12.6"
  }
 },
 "nbformat": 4,
 "nbformat_minor": 5
}
