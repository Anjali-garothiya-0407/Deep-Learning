{
 "cells": [
  {
   "cell_type": "code",
   "execution_count": 11,
   "id": "fef8a57d",
   "metadata": {},
   "outputs": [],
   "source": [
    "from nltk.sentiment import SentimentIntensityAnalyzer"
   ]
  },
  {
   "cell_type": "code",
   "execution_count": 12,
   "id": "f607f2fb",
   "metadata": {},
   "outputs": [],
   "source": [
    "from textblob import TextBlob"
   ]
  },
  {
   "cell_type": "code",
   "execution_count": 13,
   "id": "04a9181e",
   "metadata": {},
   "outputs": [],
   "source": [
    "sia = SentimentIntensityAnalyzer()"
   ]
  },
  {
   "cell_type": "code",
   "execution_count": 14,
   "id": "b2421ce8",
   "metadata": {},
   "outputs": [],
   "source": [
    "text = \"This new laptop is amazing but a little expensive.\""
   ]
  },
  {
   "cell_type": "code",
   "execution_count": 15,
   "id": "e1b33226",
   "metadata": {},
   "outputs": [],
   "source": [
    "blob = TextBlob(text)"
   ]
  },
  {
   "cell_type": "code",
   "execution_count": 16,
   "id": "592db440",
   "metadata": {},
   "outputs": [],
   "source": [
    "sentiment = blob.sentiment"
   ]
  },
  {
   "cell_type": "code",
   "execution_count": 17,
   "id": "9dce95b4",
   "metadata": {},
   "outputs": [
    {
     "name": "stdout",
     "output_type": "stream",
     "text": [
      "Polarity: 0.01221590909090911\n"
     ]
    }
   ],
   "source": [
    "print(\"Polarity:\", sentiment.polarity)"
   ]
  },
  {
   "cell_type": "code",
   "execution_count": 18,
   "id": "67b6b1d9",
   "metadata": {},
   "outputs": [
    {
     "name": "stdout",
     "output_type": "stream",
     "text": [
      "Subjectivity: 0.6386363636363637\n"
     ]
    }
   ],
   "source": [
    "print(\"Subjectivity:\", sentiment.subjectivity)"
   ]
  },
  {
   "cell_type": "code",
   "execution_count": 19,
   "id": "3a68e418",
   "metadata": {},
   "outputs": [],
   "source": [
    "scores = sia.polarity_scores(text)"
   ]
  },
  {
   "cell_type": "code",
   "execution_count": 21,
   "id": "edbe2b55",
   "metadata": {},
   "outputs": [
    {
     "name": "stdout",
     "output_type": "stream",
     "text": [
      "{'neg': 0.0, 'neu': 0.745, 'pos': 0.255, 'compound': 0.34}\n"
     ]
    }
   ],
   "source": [
    "print(scores)"
   ]
  },
  {
   "cell_type": "code",
   "execution_count": 20,
   "id": "23e5766c",
   "metadata": {},
   "outputs": [
    {
     "name": "stdout",
     "output_type": "stream",
     "text": [
      "Overall Sentiment: Positive\n"
     ]
    }
   ],
   "source": [
    "if sentiment.polarity >0:\n",
    "    print(\"Overall Sentiment: Positive\")\n",
    "elif sentiment.polarity <0:\n",
    "    print(\"Overall Sentiment: Negative\")\n",
    "else:\n",
    "    print(\"Overall Sentiment: Neutral\")        "
   ]
  }
 ],
 "metadata": {
  "kernelspec": {
   "display_name": "Python 3",
   "language": "python",
   "name": "python3"
  },
  "language_info": {
   "codemirror_mode": {
    "name": "ipython",
    "version": 3
   },
   "file_extension": ".py",
   "mimetype": "text/x-python",
   "name": "python",
   "nbconvert_exporter": "python",
   "pygments_lexer": "ipython3",
   "version": "3.12.6"
  }
 },
 "nbformat": 4,
 "nbformat_minor": 5
}
