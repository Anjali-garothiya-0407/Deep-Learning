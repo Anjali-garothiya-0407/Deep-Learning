{
 "cells": [
  {
   "cell_type": "code",
   "execution_count": 1,
   "id": "9c66b5ee",
   "metadata": {},
   "outputs": [],
   "source": [
    "\n",
    "from nltk.sentiment import SentimentIntensityAnalyzer"
   ]
  },
  {
   "cell_type": "code",
   "execution_count": 3,
   "id": "f525d1c8",
   "metadata": {},
   "outputs": [],
   "source": [
    "import nltk"
   ]
  },
  {
   "cell_type": "code",
   "execution_count": 5,
   "id": "2f3d4925",
   "metadata": {},
   "outputs": [],
   "source": [
    "from textblob import TextBlob"
   ]
  },
  {
   "cell_type": "code",
   "execution_count": 2,
   "id": "b40c5469",
   "metadata": {},
   "outputs": [],
   "source": [
    "positive = \"This song always puts me in a good mood. It's my go-to feel-good track!\"\n",
    "negative = \"I had a terrible experience with their customer support.\""
   ]
  },
  {
   "cell_type": "code",
   "execution_count": 4,
   "id": "9e7b5f71",
   "metadata": {},
   "outputs": [],
   "source": [
    "sia = SentimentIntensityAnalyzer()"
   ]
  },
  {
   "cell_type": "code",
   "execution_count": 6,
   "id": "14577f12",
   "metadata": {},
   "outputs": [
    {
     "data": {
      "text/plain": [
       "{'neg': 0.0, 'neu': 0.79, 'pos': 0.21, 'compound': 0.4926}"
      ]
     },
     "execution_count": 6,
     "metadata": {},
     "output_type": "execute_result"
    }
   ],
   "source": [
    "sia.polarity_scores(positive)"
   ]
  },
  {
   "cell_type": "code",
   "execution_count": 7,
   "id": "b05ac10b",
   "metadata": {},
   "outputs": [
    {
     "data": {
      "text/plain": [
       "{'neg': 0.287, 'neu': 0.463, 'pos': 0.25, 'compound': -0.1027}"
      ]
     },
     "execution_count": 7,
     "metadata": {},
     "output_type": "execute_result"
    }
   ],
   "source": [
    "sia.polarity_scores(negative)"
   ]
  },
  {
   "cell_type": "code",
   "execution_count": 8,
   "id": "5473dde9",
   "metadata": {},
   "outputs": [],
   "source": [
    "text1 = TextBlob(positive)\n",
    "text2 = TextBlob(negative)"
   ]
  },
  {
   "cell_type": "code",
   "execution_count": 9,
   "id": "1ef163cd",
   "metadata": {},
   "outputs": [],
   "source": [
    "sent1 = text1.sentiment"
   ]
  },
  {
   "cell_type": "code",
   "execution_count": 10,
   "id": "cfa186eb",
   "metadata": {},
   "outputs": [],
   "source": [
    "sent2 = text2.sentiment"
   ]
  },
  {
   "cell_type": "code",
   "execution_count": 11,
   "id": "03c2c576",
   "metadata": {},
   "outputs": [],
   "source": [
    "def value(sent):\n",
    "    if sent.polarity >0:\n",
    "        print(\"positive\")\n",
    "    elif sent.polarity <0:\n",
    "        print(\"Negative\") \n",
    "    else:\n",
    "        print(\"Neutral\")       "
   ]
  },
  {
   "cell_type": "code",
   "execution_count": 12,
   "id": "1be87fb8",
   "metadata": {},
   "outputs": [
    {
     "name": "stdout",
     "output_type": "stream",
     "text": [
      "positive\n",
      "Negative\n"
     ]
    }
   ],
   "source": [
    "value(sent1)\n",
    "value(sent2)"
   ]
  }
 ],
 "metadata": {
  "kernelspec": {
   "display_name": "Python 3",
   "language": "python",
   "name": "python3"
  },
  "language_info": {
   "codemirror_mode": {
    "name": "ipython",
    "version": 3
   },
   "file_extension": ".py",
   "mimetype": "text/x-python",
   "name": "python",
   "nbconvert_exporter": "python",
   "pygments_lexer": "ipython3",
   "version": "3.12.6"
  }
 },
 "nbformat": 4,
 "nbformat_minor": 5
}
