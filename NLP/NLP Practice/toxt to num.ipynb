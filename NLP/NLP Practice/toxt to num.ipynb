{
 "cells": [
  {
   "cell_type": "code",
   "execution_count": 18,
   "id": "0b5d5cc8",
   "metadata": {},
   "outputs": [],
   "source": [
    "documents = [\n",
    "    \"I love machine learning and NLP\",\n",
    "    \"NLP is a part of artificial intelligence\",\n",
    "    \"I enjoy learning about AI and machine learning\"\n",
    "]"
   ]
  },
  {
   "cell_type": "markdown",
   "id": "44c466b0",
   "metadata": {},
   "source": [
    "1. Bag of Word"
   ]
  },
  {
   "cell_type": "code",
   "execution_count": 19,
   "id": "02ac4436",
   "metadata": {},
   "outputs": [],
   "source": [
    "from sklearn.feature_extraction.text import CountVectorizer"
   ]
  },
  {
   "cell_type": "code",
   "execution_count": 20,
   "id": "34c7c40a",
   "metadata": {},
   "outputs": [],
   "source": [
    "vectorizer = CountVectorizer()"
   ]
  },
  {
   "cell_type": "code",
   "execution_count": 21,
   "id": "737a6994",
   "metadata": {},
   "outputs": [],
   "source": [
    "X = vectorizer.fit_transform(documents)"
   ]
  },
  {
   "cell_type": "code",
   "execution_count": 22,
   "id": "8f3e6a7a",
   "metadata": {},
   "outputs": [
    {
     "data": {
      "text/plain": [
       "array(['about', 'ai', 'and', 'artificial', 'enjoy', 'intelligence', 'is',\n",
       "       'learning', 'love', 'machine', 'nlp', 'of', 'part'], dtype=object)"
      ]
     },
     "execution_count": 22,
     "metadata": {},
     "output_type": "execute_result"
    }
   ],
   "source": [
    "feature = vectorizer.get_feature_names_out()\n",
    "feature"
   ]
  },
  {
   "cell_type": "code",
   "execution_count": 23,
   "id": "9644ce71",
   "metadata": {},
   "outputs": [
    {
     "name": "stdout",
     "output_type": "stream",
     "text": [
      "BoW Matrix:\n",
      " [[0 0 1 0 0 0 0 1 1 1 1 0 0]\n",
      " [0 0 0 1 0 1 1 0 0 0 1 1 1]\n",
      " [1 1 1 0 1 0 0 2 0 1 0 0 0]]\n"
     ]
    }
   ],
   "source": [
    "print(\"BoW Matrix:\\n\", X.toarray())"
   ]
  },
  {
   "cell_type": "markdown",
   "id": "f9f28f4f",
   "metadata": {},
   "source": [
    "2. TF IDF"
   ]
  },
  {
   "cell_type": "code",
   "execution_count": 30,
   "id": "d7327282",
   "metadata": {},
   "outputs": [],
   "source": [
    "import pandas as pd"
   ]
  },
  {
   "cell_type": "code",
   "execution_count": 25,
   "id": "754de11c",
   "metadata": {},
   "outputs": [],
   "source": [
    "from sklearn.feature_extraction.text import TfidfVectorizer"
   ]
  },
  {
   "cell_type": "code",
   "execution_count": 26,
   "id": "0fbafe5c",
   "metadata": {},
   "outputs": [],
   "source": [
    "TVectorizer = TfidfVectorizer()"
   ]
  },
  {
   "cell_type": "code",
   "execution_count": 27,
   "id": "4a76676d",
   "metadata": {},
   "outputs": [],
   "source": [
    "X = TVectorizer.fit_transform(documents)"
   ]
  },
  {
   "cell_type": "code",
   "execution_count": 28,
   "id": "64b9311a",
   "metadata": {},
   "outputs": [
    {
     "data": {
      "text/plain": [
       "array(['about', 'ai', 'and', 'artificial', 'enjoy', 'intelligence', 'is',\n",
       "       'learning', 'love', 'machine', 'nlp', 'of', 'part'], dtype=object)"
      ]
     },
     "execution_count": 28,
     "metadata": {},
     "output_type": "execute_result"
    }
   ],
   "source": [
    "TFeature = TVectorizer.get_feature_names_out()\n",
    "TFeature"
   ]
  },
  {
   "cell_type": "code",
   "execution_count": 33,
   "id": "7d0a7e8a",
   "metadata": {},
   "outputs": [
    {
     "data": {
      "text/html": [
       "<div>\n",
       "<style scoped>\n",
       "    .dataframe tbody tr th:only-of-type {\n",
       "        vertical-align: middle;\n",
       "    }\n",
       "\n",
       "    .dataframe tbody tr th {\n",
       "        vertical-align: top;\n",
       "    }\n",
       "\n",
       "    .dataframe thead th {\n",
       "        text-align: right;\n",
       "    }\n",
       "</style>\n",
       "<table border=\"1\" class=\"dataframe\">\n",
       "  <thead>\n",
       "    <tr style=\"text-align: right;\">\n",
       "      <th></th>\n",
       "      <th>about</th>\n",
       "      <th>ai</th>\n",
       "      <th>and</th>\n",
       "      <th>artificial</th>\n",
       "      <th>enjoy</th>\n",
       "      <th>intelligence</th>\n",
       "      <th>is</th>\n",
       "      <th>learning</th>\n",
       "      <th>love</th>\n",
       "      <th>machine</th>\n",
       "      <th>nlp</th>\n",
       "      <th>of</th>\n",
       "      <th>part</th>\n",
       "    </tr>\n",
       "  </thead>\n",
       "  <tbody>\n",
       "    <tr>\n",
       "      <th>0</th>\n",
       "      <td>0.000000</td>\n",
       "      <td>0.000000</td>\n",
       "      <td>0.417796</td>\n",
       "      <td>0.000000</td>\n",
       "      <td>0.000000</td>\n",
       "      <td>0.000000</td>\n",
       "      <td>0.000000</td>\n",
       "      <td>0.417796</td>\n",
       "      <td>0.549351</td>\n",
       "      <td>0.417796</td>\n",
       "      <td>0.417796</td>\n",
       "      <td>0.000000</td>\n",
       "      <td>0.000000</td>\n",
       "    </tr>\n",
       "    <tr>\n",
       "      <th>1</th>\n",
       "      <td>0.000000</td>\n",
       "      <td>0.000000</td>\n",
       "      <td>0.000000</td>\n",
       "      <td>0.423394</td>\n",
       "      <td>0.000000</td>\n",
       "      <td>0.423394</td>\n",
       "      <td>0.423394</td>\n",
       "      <td>0.000000</td>\n",
       "      <td>0.000000</td>\n",
       "      <td>0.000000</td>\n",
       "      <td>0.322002</td>\n",
       "      <td>0.423394</td>\n",
       "      <td>0.423394</td>\n",
       "    </tr>\n",
       "    <tr>\n",
       "      <th>2</th>\n",
       "      <td>0.393129</td>\n",
       "      <td>0.393129</td>\n",
       "      <td>0.298984</td>\n",
       "      <td>0.000000</td>\n",
       "      <td>0.393129</td>\n",
       "      <td>0.000000</td>\n",
       "      <td>0.000000</td>\n",
       "      <td>0.597969</td>\n",
       "      <td>0.000000</td>\n",
       "      <td>0.298984</td>\n",
       "      <td>0.000000</td>\n",
       "      <td>0.000000</td>\n",
       "      <td>0.000000</td>\n",
       "    </tr>\n",
       "  </tbody>\n",
       "</table>\n",
       "</div>"
      ],
      "text/plain": [
       "      about        ai       and  ...       nlp        of      part\n",
       "0  0.000000  0.000000  0.417796  ...  0.417796  0.000000  0.000000\n",
       "1  0.000000  0.000000  0.000000  ...  0.322002  0.423394  0.423394\n",
       "2  0.393129  0.393129  0.298984  ...  0.000000  0.000000  0.000000\n",
       "\n",
       "[3 rows x 13 columns]"
      ]
     },
     "execution_count": 33,
     "metadata": {},
     "output_type": "execute_result"
    }
   ],
   "source": [
    "df_tfidf = pd.DataFrame(X.toarray(), columns=TFeature)\n",
    "df_tfidf"
   ]
  }
 ],
 "metadata": {
  "kernelspec": {
   "display_name": "Python 3",
   "language": "python",
   "name": "python3"
  },
  "language_info": {
   "codemirror_mode": {
    "name": "ipython",
    "version": 3
   },
   "file_extension": ".py",
   "mimetype": "text/x-python",
   "name": "python",
   "nbconvert_exporter": "python",
   "pygments_lexer": "ipython3",
   "version": "3.12.6"
  }
 },
 "nbformat": 4,
 "nbformat_minor": 5
}
