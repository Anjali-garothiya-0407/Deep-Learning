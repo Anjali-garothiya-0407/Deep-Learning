{
 "cells": [
  {
   "cell_type": "code",
   "execution_count": 49,
   "id": "060aeb97",
   "metadata": {},
   "outputs": [],
   "source": [
    "import re\n",
    "import nltk"
   ]
  },
  {
   "cell_type": "code",
   "execution_count": 50,
   "id": "8f170812",
   "metadata": {},
   "outputs": [],
   "source": [
    "text = \"Microsoft Corporation is an American multinational corporation and technology conglomerate headquartered in Redmond, Washington.[2] Founded in 1975, the company became influential in the rise of personal computers through software like Windows, and the company has since expanded to Internet services, cloud computing, video gaming and other fields. Microsoft is the largest software maker, one of the most valuable public U.S. companies,[a] and one of the most valuable brands globally.\""
   ]
  },
  {
   "cell_type": "markdown",
   "id": "bacf0ce5",
   "metadata": {},
   "source": [
    "1. Lower Case"
   ]
  },
  {
   "cell_type": "code",
   "execution_count": 51,
   "id": "0f72eb07",
   "metadata": {},
   "outputs": [
    {
     "data": {
      "text/plain": [
       "'microsoft corporation is an american multinational corporation and technology conglomerate headquartered in redmond, washington.[2] founded in 1975, the company became influential in the rise of personal computers through software like windows, and the company has since expanded to internet services, cloud computing, video gaming and other fields. microsoft is the largest software maker, one of the most valuable public u.s. companies,[a] and one of the most valuable brands globally.'"
      ]
     },
     "execution_count": 51,
     "metadata": {},
     "output_type": "execute_result"
    }
   ],
   "source": [
    "text = text.lower()\n",
    "text"
   ]
  },
  {
   "cell_type": "markdown",
   "id": "ce14998d",
   "metadata": {},
   "source": [
    "\n",
    "2. Remove Symbols and Numbers"
   ]
  },
  {
   "cell_type": "code",
   "execution_count": 52,
   "id": "f78bf6ee",
   "metadata": {},
   "outputs": [
    {
     "data": {
      "text/plain": [
       "'microsoft corporation is an american multinational corporation and technology conglomerate headquartered in redmond washington founded in  the company became influential in the rise of personal computers through software like windows and the company has since expanded to internet services cloud computing video gaming and other fields microsoft is the largest software maker one of the most valuable public us companiesa and one of the most valuable brands globally'"
      ]
     },
     "execution_count": 52,
     "metadata": {},
     "output_type": "execute_result"
    }
   ],
   "source": [
    "text = re.sub(r'[^a-zA-Z\\s]','', text)\n",
    "text"
   ]
  },
  {
   "cell_type": "markdown",
   "id": "f0b04d92",
   "metadata": {},
   "source": [
    "3. Tokenize Word"
   ]
  },
  {
   "cell_type": "code",
   "execution_count": 53,
   "id": "3a42868d",
   "metadata": {},
   "outputs": [
    {
     "data": {
      "text/plain": [
       "['microsoft',\n",
       " 'corporation',\n",
       " 'is',\n",
       " 'an',\n",
       " 'american',\n",
       " 'multinational',\n",
       " 'corporation',\n",
       " 'and',\n",
       " 'technology',\n",
       " 'conglomerate',\n",
       " 'headquartered',\n",
       " 'in',\n",
       " 'redmond',\n",
       " 'washington',\n",
       " 'founded',\n",
       " 'in',\n",
       " 'the',\n",
       " 'company',\n",
       " 'became',\n",
       " 'influential',\n",
       " 'in',\n",
       " 'the',\n",
       " 'rise',\n",
       " 'of',\n",
       " 'personal',\n",
       " 'computers',\n",
       " 'through',\n",
       " 'software',\n",
       " 'like',\n",
       " 'windows',\n",
       " 'and',\n",
       " 'the',\n",
       " 'company',\n",
       " 'has',\n",
       " 'since',\n",
       " 'expanded',\n",
       " 'to',\n",
       " 'internet',\n",
       " 'services',\n",
       " 'cloud',\n",
       " 'computing',\n",
       " 'video',\n",
       " 'gaming',\n",
       " 'and',\n",
       " 'other',\n",
       " 'fields',\n",
       " 'microsoft',\n",
       " 'is',\n",
       " 'the',\n",
       " 'largest',\n",
       " 'software',\n",
       " 'maker',\n",
       " 'one',\n",
       " 'of',\n",
       " 'the',\n",
       " 'most',\n",
       " 'valuable',\n",
       " 'public',\n",
       " 'us',\n",
       " 'companiesa',\n",
       " 'and',\n",
       " 'one',\n",
       " 'of',\n",
       " 'the',\n",
       " 'most',\n",
       " 'valuable',\n",
       " 'brands',\n",
       " 'globally']"
      ]
     },
     "execution_count": 53,
     "metadata": {},
     "output_type": "execute_result"
    }
   ],
   "source": [
    "tokens = nltk.word_tokenize(text)\n",
    "tokens"
   ]
  },
  {
   "cell_type": "markdown",
   "id": "6a181b78",
   "metadata": {},
   "source": [
    "4. Stopwords removal/filtering"
   ]
  },
  {
   "cell_type": "code",
   "execution_count": 54,
   "id": "969d8c68",
   "metadata": {},
   "outputs": [],
   "source": [
    "from nltk.corpus import stopwords"
   ]
  },
  {
   "cell_type": "code",
   "execution_count": 55,
   "id": "3898ec23",
   "metadata": {},
   "outputs": [
    {
     "data": {
      "text/plain": [
       "['a',\n",
       " 'about',\n",
       " 'above',\n",
       " 'after',\n",
       " 'again',\n",
       " 'against',\n",
       " 'ain',\n",
       " 'all',\n",
       " 'am',\n",
       " 'an',\n",
       " 'and',\n",
       " 'any',\n",
       " 'are',\n",
       " 'aren',\n",
       " \"aren't\",\n",
       " 'as',\n",
       " 'at',\n",
       " 'be',\n",
       " 'because',\n",
       " 'been',\n",
       " 'before',\n",
       " 'being',\n",
       " 'below',\n",
       " 'between',\n",
       " 'both',\n",
       " 'but',\n",
       " 'by',\n",
       " 'can',\n",
       " 'couldn',\n",
       " \"couldn't\",\n",
       " 'd',\n",
       " 'did',\n",
       " 'didn',\n",
       " \"didn't\",\n",
       " 'do',\n",
       " 'does',\n",
       " 'doesn',\n",
       " \"doesn't\",\n",
       " 'doing',\n",
       " 'don',\n",
       " \"don't\",\n",
       " 'down',\n",
       " 'during',\n",
       " 'each',\n",
       " 'few',\n",
       " 'for',\n",
       " 'from',\n",
       " 'further',\n",
       " 'had',\n",
       " 'hadn',\n",
       " \"hadn't\",\n",
       " 'has',\n",
       " 'hasn',\n",
       " \"hasn't\",\n",
       " 'have',\n",
       " 'haven',\n",
       " \"haven't\",\n",
       " 'having',\n",
       " 'he',\n",
       " \"he'd\",\n",
       " \"he'll\",\n",
       " 'her',\n",
       " 'here',\n",
       " 'hers',\n",
       " 'herself',\n",
       " \"he's\",\n",
       " 'him',\n",
       " 'himself',\n",
       " 'his',\n",
       " 'how',\n",
       " 'i',\n",
       " \"i'd\",\n",
       " 'if',\n",
       " \"i'll\",\n",
       " \"i'm\",\n",
       " 'in',\n",
       " 'into',\n",
       " 'is',\n",
       " 'isn',\n",
       " \"isn't\",\n",
       " 'it',\n",
       " \"it'd\",\n",
       " \"it'll\",\n",
       " \"it's\",\n",
       " 'its',\n",
       " 'itself',\n",
       " \"i've\",\n",
       " 'just',\n",
       " 'll',\n",
       " 'm',\n",
       " 'ma',\n",
       " 'me',\n",
       " 'mightn',\n",
       " \"mightn't\",\n",
       " 'more',\n",
       " 'most',\n",
       " 'mustn',\n",
       " \"mustn't\",\n",
       " 'my',\n",
       " 'myself',\n",
       " 'needn',\n",
       " \"needn't\",\n",
       " 'no',\n",
       " 'nor',\n",
       " 'not',\n",
       " 'now',\n",
       " 'o',\n",
       " 'of',\n",
       " 'off',\n",
       " 'on',\n",
       " 'once',\n",
       " 'only',\n",
       " 'or',\n",
       " 'other',\n",
       " 'our',\n",
       " 'ours',\n",
       " 'ourselves',\n",
       " 'out',\n",
       " 'over',\n",
       " 'own',\n",
       " 're',\n",
       " 's',\n",
       " 'same',\n",
       " 'shan',\n",
       " \"shan't\",\n",
       " 'she',\n",
       " \"she'd\",\n",
       " \"she'll\",\n",
       " \"she's\",\n",
       " 'should',\n",
       " 'shouldn',\n",
       " \"shouldn't\",\n",
       " \"should've\",\n",
       " 'so',\n",
       " 'some',\n",
       " 'such',\n",
       " 't',\n",
       " 'than',\n",
       " 'that',\n",
       " \"that'll\",\n",
       " 'the',\n",
       " 'their',\n",
       " 'theirs',\n",
       " 'them',\n",
       " 'themselves',\n",
       " 'then',\n",
       " 'there',\n",
       " 'these',\n",
       " 'they',\n",
       " \"they'd\",\n",
       " \"they'll\",\n",
       " \"they're\",\n",
       " \"they've\",\n",
       " 'this',\n",
       " 'those',\n",
       " 'through',\n",
       " 'to',\n",
       " 'too',\n",
       " 'under',\n",
       " 'until',\n",
       " 'up',\n",
       " 've',\n",
       " 'very',\n",
       " 'was',\n",
       " 'wasn',\n",
       " \"wasn't\",\n",
       " 'we',\n",
       " \"we'd\",\n",
       " \"we'll\",\n",
       " \"we're\",\n",
       " 'were',\n",
       " 'weren',\n",
       " \"weren't\",\n",
       " \"we've\",\n",
       " 'what',\n",
       " 'when',\n",
       " 'where',\n",
       " 'which',\n",
       " 'while',\n",
       " 'who',\n",
       " 'whom',\n",
       " 'why',\n",
       " 'will',\n",
       " 'with',\n",
       " 'won',\n",
       " \"won't\",\n",
       " 'wouldn',\n",
       " \"wouldn't\",\n",
       " 'y',\n",
       " 'you',\n",
       " \"you'd\",\n",
       " \"you'll\",\n",
       " 'your',\n",
       " \"you're\",\n",
       " 'yours',\n",
       " 'yourself',\n",
       " 'yourselves',\n",
       " \"you've\"]"
      ]
     },
     "execution_count": 55,
     "metadata": {},
     "output_type": "execute_result"
    }
   ],
   "source": [
    "stopW = stopwords.words('English')\n",
    "stopW"
   ]
  },
  {
   "cell_type": "code",
   "execution_count": 56,
   "id": "9933c584",
   "metadata": {},
   "outputs": [
    {
     "data": {
      "text/plain": [
       "['microsoft',\n",
       " 'corporation',\n",
       " 'american',\n",
       " 'multinational',\n",
       " 'corporation',\n",
       " 'technology',\n",
       " 'conglomerate',\n",
       " 'headquartered',\n",
       " 'redmond',\n",
       " 'washington',\n",
       " 'founded',\n",
       " 'company',\n",
       " 'became',\n",
       " 'influential',\n",
       " 'rise',\n",
       " 'personal',\n",
       " 'computers',\n",
       " 'software',\n",
       " 'like',\n",
       " 'windows',\n",
       " 'company',\n",
       " 'since',\n",
       " 'expanded',\n",
       " 'internet',\n",
       " 'services',\n",
       " 'cloud',\n",
       " 'computing',\n",
       " 'video',\n",
       " 'gaming',\n",
       " 'fields',\n",
       " 'microsoft',\n",
       " 'largest',\n",
       " 'software',\n",
       " 'maker',\n",
       " 'one',\n",
       " 'valuable',\n",
       " 'public',\n",
       " 'us',\n",
       " 'companiesa',\n",
       " 'one',\n",
       " 'valuable',\n",
       " 'brands',\n",
       " 'globally']"
      ]
     },
     "execution_count": 56,
     "metadata": {},
     "output_type": "execute_result"
    }
   ],
   "source": [
    "filtered = []\n",
    "for word in tokens :\n",
    "    if word not in stopW:\n",
    "        filtered.append(word)\n",
    "filtered        \n"
   ]
  },
  {
   "cell_type": "markdown",
   "id": "8e6224bd",
   "metadata": {},
   "source": [
    "5. Stemming/Lemmetization"
   ]
  },
  {
   "cell_type": "code",
   "execution_count": 57,
   "id": "2fb7e182",
   "metadata": {},
   "outputs": [],
   "source": [
    "from nltk.stem import PorterStemmer"
   ]
  },
  {
   "cell_type": "code",
   "execution_count": 58,
   "id": "7990c356",
   "metadata": {},
   "outputs": [],
   "source": [
    "stemmer = PorterStemmer()"
   ]
  },
  {
   "cell_type": "code",
   "execution_count": 59,
   "id": "14a6d1a5",
   "metadata": {},
   "outputs": [
    {
     "data": {
      "text/plain": [
       "['microsoft',\n",
       " 'corpor',\n",
       " 'american',\n",
       " 'multin',\n",
       " 'corpor',\n",
       " 'technolog',\n",
       " 'conglomer',\n",
       " 'headquart',\n",
       " 'redmond',\n",
       " 'washington',\n",
       " 'found',\n",
       " 'compani',\n",
       " 'becam',\n",
       " 'influenti',\n",
       " 'rise',\n",
       " 'person',\n",
       " 'comput',\n",
       " 'softwar',\n",
       " 'like',\n",
       " 'window',\n",
       " 'compani',\n",
       " 'sinc',\n",
       " 'expand',\n",
       " 'internet',\n",
       " 'servic',\n",
       " 'cloud',\n",
       " 'comput',\n",
       " 'video',\n",
       " 'game',\n",
       " 'field',\n",
       " 'microsoft',\n",
       " 'largest',\n",
       " 'softwar',\n",
       " 'maker',\n",
       " 'one',\n",
       " 'valuabl',\n",
       " 'public',\n",
       " 'us',\n",
       " 'companiesa',\n",
       " 'one',\n",
       " 'valuabl',\n",
       " 'brand',\n",
       " 'global']"
      ]
     },
     "execution_count": 59,
     "metadata": {},
     "output_type": "execute_result"
    }
   ],
   "source": [
    "stmmedWords =[stemmer.stem(words) for words in filtered]\n",
    "stmmedWords"
   ]
  },
  {
   "cell_type": "markdown",
   "id": "7308229b",
   "metadata": {},
   "source": [
    "6. Back to Sentance"
   ]
  },
  {
   "cell_type": "code",
   "execution_count": 60,
   "id": "bfe1bc48",
   "metadata": {},
   "outputs": [
    {
     "data": {
      "text/plain": [
       "'microsoft corpor american multin corpor technolog conglomer headquart redmond washington found compani becam influenti rise person comput softwar like window compani sinc expand internet servic cloud comput video game field microsoft largest softwar maker one valuabl public us companiesa one valuabl brand global'"
      ]
     },
     "execution_count": 60,
     "metadata": {},
     "output_type": "execute_result"
    }
   ],
   "source": [
    "preprocessed = ' '.join(stmmedWords)\n",
    "preprocessed"
   ]
  },
  {
   "cell_type": "code",
   "execution_count": 61,
   "id": "78cf9bb2",
   "metadata": {},
   "outputs": [],
   "source": [
    "from nltk.stem import WordNetLemmatizer"
   ]
  },
  {
   "cell_type": "code",
   "execution_count": 62,
   "id": "7024e7bb",
   "metadata": {},
   "outputs": [],
   "source": [
    "lemmatization = WordNetLemmatizer()"
   ]
  },
  {
   "cell_type": "code",
   "execution_count": 63,
   "id": "446a9344",
   "metadata": {},
   "outputs": [
    {
     "data": {
      "text/plain": [
       "['microsoft',\n",
       " 'corporation',\n",
       " 'american',\n",
       " 'multinational',\n",
       " 'corporation',\n",
       " 'technology',\n",
       " 'conglomerate',\n",
       " 'headquartered',\n",
       " 'redmond',\n",
       " 'washington',\n",
       " 'founded',\n",
       " 'company',\n",
       " 'became',\n",
       " 'influential',\n",
       " 'rise',\n",
       " 'personal',\n",
       " 'computer',\n",
       " 'software',\n",
       " 'like',\n",
       " 'window',\n",
       " 'company',\n",
       " 'since',\n",
       " 'expanded',\n",
       " 'internet',\n",
       " 'service',\n",
       " 'cloud',\n",
       " 'computing',\n",
       " 'video',\n",
       " 'gaming',\n",
       " 'field',\n",
       " 'microsoft',\n",
       " 'largest',\n",
       " 'software',\n",
       " 'maker',\n",
       " 'one',\n",
       " 'valuable',\n",
       " 'public',\n",
       " 'u',\n",
       " 'companiesa',\n",
       " 'one',\n",
       " 'valuable',\n",
       " 'brand',\n",
       " 'globally']"
      ]
     },
     "execution_count": 63,
     "metadata": {},
     "output_type": "execute_result"
    }
   ],
   "source": [
    "lemmetize = [lemmatization.lemmatize(words) for words in filtered]\n",
    "lemmetize"
   ]
  },
  {
   "cell_type": "code",
   "execution_count": 64,
   "id": "b66b6a34",
   "metadata": {},
   "outputs": [
    {
     "data": {
      "text/plain": [
       "'microsoft corporation american multinational corporation technology conglomerate headquartered redmond washington founded company became influential rise personal computer software like window company since expanded internet service cloud computing video gaming field microsoft largest software maker one valuable public u companiesa one valuable brand globally'"
      ]
     },
     "execution_count": 64,
     "metadata": {},
     "output_type": "execute_result"
    }
   ],
   "source": [
    "lem_preprocess = ' '.join(lemmetize)\n",
    "lem_preprocess"
   ]
  }
 ],
 "metadata": {
  "kernelspec": {
   "display_name": "Python 3",
   "language": "python",
   "name": "python3"
  },
  "language_info": {
   "codemirror_mode": {
    "name": "ipython",
    "version": 3
   },
   "file_extension": ".py",
   "mimetype": "text/x-python",
   "name": "python",
   "nbconvert_exporter": "python",
   "pygments_lexer": "ipython3",
   "version": "3.12.6"
  }
 },
 "nbformat": 4,
 "nbformat_minor": 5
}
