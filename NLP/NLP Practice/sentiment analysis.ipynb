{
 "cells": [
  {
   "cell_type": "code",
   "execution_count": 1,
   "id": "bf0e3846",
   "metadata": {},
   "outputs": [],
   "source": [
    "sentences =  [\n",
    "    (\"I love this product! It works like a charm.\", \"positive\"),\n",
    "    (\"Absolutely horrible experience. Never again.\", \"negative\"),\n",
    "    (\"It's okay, not great but not terrible either.\", \"neutral\"),\n",
    "    (\"Fantastic service and friendly staff!\", \"positive\"),\n",
    "    (\"The food was cold and tasteless.\", \"negative\"),\n",
    "    (\"I'm extremely satisfied with the quality.\", \"positive\"),\n",
    "    (\"I wouldn't recommend this to anyone.\", \"negative\"),\n",
    "    (\"It was fine, just not what I expected.\", \"neutral\"),\n",
    "    (\"Best purchase I've made this year!\", \"positive\"),\n",
    "    (\"Terrible customer support. No help at all.\", \"negative\"),\n",
    "    (\"The movie was decent, but too long.\", \"neutral\"),\n",
    "    (\"Great value for the price!\", \"positive\"),\n",
    "    (\"Awful! The item broke on the first day.\", \"negative\"),\n",
    "    (\"I had a wonderful time at the event.\", \"positive\"),\n",
    "    (\"It didn't meet my expectations.\", \"negative\"),\n",
    "]"
   ]
  },
  {
   "cell_type": "markdown",
   "id": "4467c8f4",
   "metadata": {},
   "source": [
    "1. TextBlob Library"
   ]
  },
  {
   "cell_type": "code",
   "execution_count": 2,
   "id": "32acf123",
   "metadata": {},
   "outputs": [],
   "source": [
    "from textblob import TextBlob"
   ]
  },
  {
   "cell_type": "code",
   "execution_count": null,
   "id": "01a83563",
   "metadata": {},
   "outputs": [],
   "source": [
    "for sentence, actual_sentiment in sentences:\n",
    "    blob = TextBlob(sentence)\n",
    "    polarity = blob.sentiment.polarity\n",
    "    subjectivity = blob.sentiment.subjectivity\n",
    "    sentiment = (\n",
    "        \"positive\" if polarity > 0 else\n",
    "        \"negative\" if polarity < 0 else\n",
    "        \"neutral\"\n",
    "    )\n",
    "    print(f\"TextBlob: {sentence} = Predicted: {sentiment}, Actual: {actual_sentiment}\")\n"
   ]
  },
  {
   "cell_type": "markdown",
   "id": "086fcde9",
   "metadata": {},
   "source": [
    "2. with NLTK Sentiment Intesity Analyzer"
   ]
  },
  {
   "cell_type": "code",
   "execution_count": 3,
   "id": "9352ecc1",
   "metadata": {},
   "outputs": [],
   "source": [
    "from nltk.sentiment import SentimentIntensityAnalyzer"
   ]
  },
  {
   "cell_type": "code",
   "execution_count": 4,
   "id": "11c229a4",
   "metadata": {},
   "outputs": [],
   "source": [
    "sia = SentimentIntensityAnalyzer()"
   ]
  },
  {
   "cell_type": "code",
   "execution_count": null,
   "id": "42a7d4b3",
   "metadata": {},
   "outputs": [
    {
     "name": "stdout",
     "output_type": "stream",
     "text": [
      "NLTK: I love this product! It works like a charm. => Predicted: positive, Actual: positive\n",
      "NLTK: Absolutely horrible experience. Never again. => Predicted: negative, Actual: negative\n",
      "NLTK: It's okay, not great but not terrible either. => Predicted: positive, Actual: neutral\n",
      "NLTK: Fantastic service and friendly staff! => Predicted: positive, Actual: positive\n",
      "NLTK: The food was cold and tasteless. => Predicted: neutral, Actual: negative\n",
      "NLTK: I'm extremely satisfied with the quality. => Predicted: positive, Actual: positive\n",
      "NLTK: I wouldn't recommend this to anyone. => Predicted: negative, Actual: negative\n",
      "NLTK: It was fine, just not what I expected. => Predicted: positive, Actual: neutral\n",
      "NLTK: Best purchase I've made this year! => Predicted: positive, Actual: positive\n",
      "NLTK: Terrible customer support. No help at all. => Predicted: positive, Actual: negative\n",
      "NLTK: The movie was decent, but too long. => Predicted: neutral, Actual: neutral\n",
      "NLTK: Great value for the price! => Predicted: positive, Actual: positive\n",
      "NLTK: Awful! The item broke on the first day. => Predicted: negative, Actual: negative\n",
      "NLTK: I had a wonderful time at the event. => Predicted: positive, Actual: positive\n",
      "NLTK: It didn't meet my expectations. => Predicted: neutral, Actual: negative\n"
     ]
    }
   ],
   "source": [
    "for sentence, actual_sentiment in sentences:\n",
    "    scores = sia.polarity_scores(sentence)\n",
    "    compound = scores['compound']\n",
    "    sentiment = (\n",
    "        \"positive\" if compound > 0 else\n",
    "        \"negative\" if compound < 0 else\n",
    "        \"neutral\"\n",
    "    )\n",
    "    print(f\"NLTK: {sentence} = Predicted: {sentiment}, Actual: {actual_sentiment}\")\n"
   ]
  }
 ],
 "metadata": {
  "kernelspec": {
   "display_name": "Python 3",
   "language": "python",
   "name": "python3"
  },
  "language_info": {
   "codemirror_mode": {
    "name": "ipython",
    "version": 3
   },
   "file_extension": ".py",
   "mimetype": "text/x-python",
   "name": "python",
   "nbconvert_exporter": "python",
   "pygments_lexer": "ipython3",
   "version": "3.12.6"
  }
 },
 "nbformat": 4,
 "nbformat_minor": 5
}
