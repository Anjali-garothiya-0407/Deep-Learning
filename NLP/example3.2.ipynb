{
 "cells": [
  {
   "cell_type": "code",
   "execution_count": 22,
   "id": "20fae25c",
   "metadata": {},
   "outputs": [],
   "source": [
    "import nltk\n",
    "from nltk import word_tokenize, pos_tag, ne_chunk"
   ]
  },
  {
   "cell_type": "code",
   "execution_count": 23,
   "id": "c9691a44",
   "metadata": {},
   "outputs": [],
   "source": [
    "text = \"Prime Minister Narendra Modi inaugurated the new terminal at Chennai Airport on 10 March 2023.\""
   ]
  },
  {
   "cell_type": "code",
   "execution_count": 24,
   "id": "ec831c58",
   "metadata": {},
   "outputs": [],
   "source": [
    "tokens = word_tokenize(text)"
   ]
  },
  {
   "cell_type": "code",
   "execution_count": 25,
   "id": "34a1071e",
   "metadata": {},
   "outputs": [],
   "source": [
    "tags = pos_tag(tokens)"
   ]
  },
  {
   "cell_type": "code",
   "execution_count": 26,
   "id": "2cb80629",
   "metadata": {},
   "outputs": [],
   "source": [
    "tree = ne_chunk(tags)"
   ]
  },
  {
   "cell_type": "code",
   "execution_count": 29,
   "id": "4ffbeb3e",
   "metadata": {},
   "outputs": [
    {
     "name": "stdout",
     "output_type": "stream",
     "text": [
      "Named Entities:\n",
      "Narendra Modi - PERSON\n",
      "Chennai Airport - FACILITY\n"
     ]
    }
   ],
   "source": [
    "print(\"Named Entities:\")\n",
    "for subtree in tree:\n",
    "    if hasattr(subtree, 'label'):\n",
    "        entity = \" \".join([token for token, pos in subtree])\n",
    "        label = subtree.label()\n",
    "        print(f\"{entity} - {label}\")"
   ]
  }
 ],
 "metadata": {
  "kernelspec": {
   "display_name": "Python 3",
   "language": "python",
   "name": "python3"
  },
  "language_info": {
   "codemirror_mode": {
    "name": "ipython",
    "version": 3
   },
   "file_extension": ".py",
   "mimetype": "text/x-python",
   "name": "python",
   "nbconvert_exporter": "python",
   "pygments_lexer": "ipython3",
   "version": "3.12.6"
  }
 },
 "nbformat": 4,
 "nbformat_minor": 5
}
